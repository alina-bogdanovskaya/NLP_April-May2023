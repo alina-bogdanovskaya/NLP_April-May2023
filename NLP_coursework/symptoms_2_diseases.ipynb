{
 "cells": [
  {
   "cell_type": "code",
   "execution_count": 11,
   "id": "f713f28e",
   "metadata": {
    "cellId": "6ox5i3bfzishve2na49ha"
   },
   "outputs": [],
   "source": [
    "import pandas as pd\n",
    "import numpy as np\n",
    "import tensorflow as tf\n",
    "import pickle\n",
    "from sklearn.model_selection import train_test_split\n",
    "from sklearn.preprocessing import LabelEncoder\n",
    "from tensorflow.keras.layers.experimental.preprocessing import TextVectorization\n",
    "from tensorflow.keras import layers\n",
    "from sklearn.preprocessing import OneHotEncoder"
   ]
  },
  {
   "cell_type": "code",
   "execution_count": 15,
   "id": "cc0a445b",
   "metadata": {
    "cellId": "yhs6knhwaxgi2fl2ih88ln"
   },
   "outputs": [],
   "source": [
    "class SymptomsModel:\n",
    "    def train(self, filename):\n",
    "        diseases = pd.read_csv(filename)\n",
    "        num_classes = diseases.label.nunique()\n",
    "\n",
    "        label_encoder = LabelEncoder()\n",
    "        label_encoder.fit(diseases.label)\n",
    "\n",
    "        X, y = diseases.text, diseases.label\n",
    "        X_train, X_test, y_train, y_test = train_test_split(X, y,\n",
    "                                                            test_size=0.2, \n",
    "                                                            random_state=21, \n",
    "                                                            shuffle=True,\n",
    "                                                            stratify=y)\n",
    "\n",
    "        train_labels = label_encoder.transform(y_train)\n",
    "        test_labels = label_encoder.transform(y_test)\n",
    "\n",
    "        max_vocab_length = 10000\n",
    "        max_length = 45\n",
    "        text_vectorizer = TextVectorization(\n",
    "            max_tokens=max_vocab_length,\n",
    "            output_mode='int',\n",
    "            output_sequence_length=max_length)\n",
    "\n",
    "        text_vectorizer.adapt(diseases.text)\n",
    "\n",
    "        embedding = layers.Embedding(input_dim=max_vocab_length, \n",
    "                                     output_dim=128, \n",
    "                                     input_length=max_length,\n",
    "                                     embeddings_initializer='uniform')\n",
    "\n",
    "        inputs = layers.Input(shape=(1,), dtype=tf.string)\n",
    "        x = text_vectorizer(inputs)\n",
    "        x = embedding(x)\n",
    "        x = layers.GlobalAveragePooling1D()(x)\n",
    "        outputs = layers.Dense(num_classes, activation ='sigmoid')(x)\n",
    "        model_1 = tf.keras.Model(inputs, outputs, name='dense_model')\n",
    "\n",
    "        model_1.compile(loss=tf.keras.losses.CategoricalCrossentropy(),\n",
    "                        optimizer = tf.keras.optimizers.Adam(), \n",
    "                        metrics=[\"accuracy\"])\n",
    "\n",
    "        OHE = OneHotEncoder(sparse_output=False)\n",
    "        y_train_encoded = OHE.fit_transform(y_train.to_numpy().reshape(-1, 1))\n",
    "        y_test_encoded = OHE.fit_transform(y_test.to_numpy().reshape(-1, 1))\n",
    "\n",
    "        model_1.fit(np.array(X_train), \n",
    "                                      y_train_encoded,\n",
    "                                      epochs=50,\n",
    "                                      validation_data=(np.array(X_test), y_test_encoded))\n",
    "        \n",
    "        self.model = model_1\n",
    "        self.label_encoder = label_encoder\n",
    "        \n",
    "    def predict(self, text):\n",
    "        label_index = np.argmax(self.model.predict([text]))\n",
    "        return self.label_encoder.inverse_transform([label_index])[0]"
   ]
  },
  {
   "cell_type": "code",
   "execution_count": null,
   "id": "be73b43f",
   "metadata": {
    "cellId": "ey9am4m9c7u89bgredxlcr"
   },
   "outputs": [],
   "source": []
  }
 ],
 "metadata": {
  "language_info": {
   "codemirror_mode": {
    "name": "ipython",
    "version": 3
   },
   "file_extension": ".py",
   "mimetype": "text/x-python",
   "name": "python",
   "nbconvert_exporter": "python",
   "pygments_lexer": "ipython3",
   "version": "3.7.7"
  },
  "notebookId": "e98b10ba-ca39-4c6c-affc-2a4ef3ddee98",
  "notebookPath": "NLP_coursework/symptoms_2_diseases.ipynb"
 },
 "nbformat": 4,
 "nbformat_minor": 5
}
