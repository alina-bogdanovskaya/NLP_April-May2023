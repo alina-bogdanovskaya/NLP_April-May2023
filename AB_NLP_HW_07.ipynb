{
 "cells": [
  {
   "cell_type": "code",
   "execution_count": null,
   "metadata": {
    "colab": {
     "base_uri": "https://localhost:8080/"
    },
    "id": "ccuoYcScfRNe",
    "outputId": "258d0d8a-4707-4367-9072-d1a91e428115"
   },
   "outputs": [],
   "source": [
    "pip install stop_words nltk pymorphy2 gensim"
   ]
  },
  {
   "cell_type": "code",
   "execution_count": 1,
   "metadata": {},
   "outputs": [
    {
     "name": "stdout",
     "output_type": "stream",
     "text": [
      "Found existing installation: gensim 4.3.1\n",
      "Uninstalling gensim-4.3.1:\n",
      "  Successfully uninstalled gensim-4.3.1\n",
      "Note: you may need to restart the kernel to use updated packages.\n"
     ]
    }
   ],
   "source": [
    "pip uninstall gensim --yes"
   ]
  },
  {
   "cell_type": "code",
   "execution_count": 2,
   "metadata": {},
   "outputs": [
    {
     "name": "stdout",
     "output_type": "stream",
     "text": [
      "Collecting gensim\n",
      "  Using cached gensim-4.3.1.tar.gz (23.3 MB)\n",
      "Requirement already satisfied: numpy>=1.18.5 in c:\\users\\alina\\anaconda3\\lib\\site-packages (from gensim) (1.21.0)\n",
      "Requirement already satisfied: scipy>=1.7.0 in c:\\users\\alina\\anaconda3\\lib\\site-packages (from gensim) (1.10.1)\n",
      "Requirement already satisfied: smart_open>=1.8.1 in c:\\users\\alina\\anaconda3\\lib\\site-packages (from gensim) (6.3.0)\n",
      "Skipping wheel build for gensim, due to binaries being disabled for it.\n",
      "Installing collected packages: gensim\n",
      "    Running setup.py install for gensim: started\n",
      "    Running setup.py install for gensim: finished with status 'done'\n",
      "Successfully installed gensim-4.3.1\n",
      "Note: you may need to restart the kernel to use updated packages.\n"
     ]
    }
   ],
   "source": [
    "pip install gensim --no-binary :all:"
   ]
  },
  {
   "cell_type": "code",
   "execution_count": 8,
   "metadata": {},
   "outputs": [
    {
     "name": "stdout",
     "output_type": "stream",
     "text": [
      "Requirement already satisfied: numpy==1.21 in c:\\users\\alina\\anaconda3\\lib\\site-packages (1.21.0)\n",
      "Note: you may need to restart the kernel to use updated packages.\n"
     ]
    }
   ],
   "source": [
    "pip install numpy==1.21"
   ]
  },
  {
   "cell_type": "code",
   "execution_count": 3,
   "metadata": {
    "id": "NZBXuMindqRb"
   },
   "outputs": [],
   "source": [
    "import pandas as pd\n",
    "import numpy as np\n",
    "from tqdm import tqdm_notebook\n",
    "\n",
    "from string import punctuation\n",
    "from stop_words import get_stop_words\n",
    "from pymorphy2 import MorphAnalyzer\n",
    "import re\n",
    "\n",
    "import nltk\n",
    "from nltk.corpus import stopwords\n",
    "from nltk.tokenize import word_tokenize\n",
    "from nltk.probability import FreqDist\n",
    "\n",
    "import keras\n",
    "import tensorflow as tf\n",
    "from keras.models import Sequential, Model\n",
    "from keras.layers import Dense, Dropout, Activation, Input, Embedding, Conv1D, GlobalMaxPool1D\n",
    "from keras.preprocessing.text import Tokenizer\n",
    "from tensorflow.keras.utils import pad_sequences\n",
    "from keras.callbacks import TensorBoard \n",
    "from tensorflow.keras.losses import CategoricalCrossentropy\n",
    "from keras.callbacks import EarlyStopping  \n",
    "\n",
    "from sklearn.feature_extraction.text import TfidfVectorizer, CountVectorizer\n",
    "from sklearn.linear_model import LogisticRegression\n",
    "from sklearn.metrics import accuracy_score \n",
    "from sklearn import model_selection, preprocessing, linear_model\n",
    "\n",
    "from gensim.models import Word2Vec\n",
    "from gensim import corpora\n",
    "from collections import defaultdict, Counter"
   ]
  },
  {
   "cell_type": "code",
   "execution_count": 4,
   "metadata": {
    "colab": {
     "base_uri": "https://localhost:8080/"
    },
    "id": "0OT3CqdVnWQz",
    "outputId": "832e3c21-9184-40b0-8ae3-0bcad5ea8956"
   },
   "outputs": [
    {
     "name": "stderr",
     "output_type": "stream",
     "text": [
      "[nltk_data] Downloading package stopwords to\n",
      "[nltk_data]     C:\\Users\\Alina\\AppData\\Roaming\\nltk_data...\n",
      "[nltk_data]   Unzipping corpora\\stopwords.zip.\n",
      "[nltk_data] Downloading package punkt to\n",
      "[nltk_data]     C:\\Users\\Alina\\AppData\\Roaming\\nltk_data...\n",
      "[nltk_data]   Package punkt is already up-to-date!\n",
      "[nltk_data] Downloading package averaged_perceptron_tagger_ru to\n",
      "[nltk_data]     C:\\Users\\Alina\\AppData\\Roaming\\nltk_data...\n",
      "[nltk_data]   Unzipping taggers\\averaged_perceptron_tagger_ru.zip.\n"
     ]
    },
    {
     "data": {
      "text/plain": [
       "True"
      ]
     },
     "execution_count": 4,
     "metadata": {},
     "output_type": "execute_result"
    }
   ],
   "source": [
    "pd.set_option('display.max_columns', None)  \n",
    "pd.set_option('display.max_rows', None)  \n",
    "pd.set_option('display.expand_frame_repr', False)\n",
    "pd.set_option('max_colwidth', None)\n",
    "\n",
    "nltk.download('stopwords')\n",
    "nltk.download('punkt')\n",
    "nltk.download('averaged_perceptron_tagger_ru')"
   ]
  },
  {
   "cell_type": "code",
   "execution_count": 6,
   "metadata": {
    "id": "unDK3_roe4uB"
   },
   "outputs": [],
   "source": [
    "reviews = pd.read_excel('отзывы за лето.xls')"
   ]
  },
  {
   "cell_type": "code",
   "execution_count": 7,
   "metadata": {
    "colab": {
     "base_uri": "https://localhost:8080/"
    },
    "id": "Mo_Wr2tXo2hl",
    "outputId": "4bbd72e1-0182-4958-bbad-9e4c0d25f1a7"
   },
   "outputs": [
    {
     "name": "stdout",
     "output_type": "stream",
     "text": [
      "<class 'pandas.core.frame.DataFrame'>\n",
      "RangeIndex: 20659 entries, 0 to 20658\n",
      "Data columns (total 3 columns):\n",
      " #   Column   Non-Null Count  Dtype \n",
      "---  ------   --------------  ----- \n",
      " 0   Rating   20659 non-null  int64 \n",
      " 1   Content  20656 non-null  object\n",
      " 2   Date     20659 non-null  object\n",
      "dtypes: int64(1), object(2)\n",
      "memory usage: 484.3+ KB\n"
     ]
    }
   ],
   "source": [
    "reviews.info()"
   ]
  },
  {
   "cell_type": "code",
   "execution_count": 8,
   "metadata": {
    "id": "UQ8NAzDUp9Ji"
   },
   "outputs": [],
   "source": [
    "reviews.dropna(inplace=True)"
   ]
  },
  {
   "cell_type": "code",
   "execution_count": 9,
   "metadata": {
    "id": "eTlFgD2BjRO3"
   },
   "outputs": [],
   "source": [
    "# reviews['char_count'] = reviews.Content.apply(lambda x: len(str(x)))\n",
    "# reviews['word_count'] = reviews.Content.apply(lambda x: len(str(x).split()))\n",
    "# reviews['word_density'] = reviews['char_count'] / (reviews['word_count']+1)\n",
    "# reviews['punctuation_count'] = reviews.Content.apply(lambda x: len(\"\".join(_ for _ in str(x) if _ in punctuation))) \n",
    "# reviews['title_word_count'] = reviews.Content.apply(lambda x: len([w for w in str(x).split() if w.istitle()]))\n",
    "# reviews['upper_case_word_count'] = reviews.Content.apply(lambda x: len([w for w in str(x).split() if w.isupper()]))"
   ]
  },
  {
   "cell_type": "code",
   "execution_count": 10,
   "metadata": {
    "id": "WAXnOy0ryX7U"
   },
   "outputs": [],
   "source": [
    "morph = MorphAnalyzer()\n",
    "\n",
    "def preprocess_text(txt):\n",
    "  txt = str(txt)\n",
    "  txt = txt.lower()\n",
    "  txt = re.sub('[0-9]|[-—.,:;_%©«»?*!@#№$^•·\"&()]|[+=]|[[]|[]]|[/]|[..]|[...]|[....]|[d]', ' ', txt)\n",
    "  txt = [morph.parse(word)[0].normal_form for word in txt.split() if word not in stopwords.words('russian')]\n",
    "  # txt = \" \".join(txt)\n",
    "  return txt"
   ]
  },
  {
   "cell_type": "code",
   "execution_count": 11,
   "metadata": {
    "colab": {
     "base_uri": "https://localhost:8080/"
    },
    "id": "eeeiJMT-y5eb",
    "outputId": "961ba1f5-080d-4842-9055-9935577ac0a7"
   },
   "outputs": [
    {
     "name": "stderr",
     "output_type": "stream",
     "text": [
      "<ipython-input-10-9a365ce90dba>:6: FutureWarning: Possible nested set at position 40\n",
      "  txt = re.sub('[0-9]|[-—.,:;_%©«»?*!@#№$^•·\"&()]|[+=]|[[]|[]]|[/]|[..]|[...]|[....]|[d]', ' ', txt)\n"
     ]
    }
   ],
   "source": [
    "reviews['clean_text'] = reviews.Content.apply(preprocess_text)\n",
    "reviews['label'] = reviews.Rating.map({5:0, 4:0, 3:1, 2:1, 1:1})"
   ]
  },
  {
   "cell_type": "code",
   "execution_count": 12,
   "metadata": {
    "colab": {
     "base_uri": "https://localhost:8080/",
     "height": 451
    },
    "id": "yyBb-kQa9mlI",
    "outputId": "028b32b1-10ed-4667-babf-1f706b9141e1"
   },
   "outputs": [
    {
     "data": {
      "text/html": [
       "<div>\n",
       "<style scoped>\n",
       "    .dataframe tbody tr th:only-of-type {\n",
       "        vertical-align: middle;\n",
       "    }\n",
       "\n",
       "    .dataframe tbody tr th {\n",
       "        vertical-align: top;\n",
       "    }\n",
       "\n",
       "    .dataframe thead th {\n",
       "        text-align: right;\n",
       "    }\n",
       "</style>\n",
       "<table border=\"1\" class=\"dataframe\">\n",
       "  <thead>\n",
       "    <tr style=\"text-align: right;\">\n",
       "      <th></th>\n",
       "      <th>Rating</th>\n",
       "      <th>Content</th>\n",
       "      <th>Date</th>\n",
       "      <th>clean_text</th>\n",
       "      <th>label</th>\n",
       "    </tr>\n",
       "  </thead>\n",
       "  <tbody>\n",
       "    <tr>\n",
       "      <th>20652</th>\n",
       "      <td>2</td>\n",
       "      <td>Meizu pro6 после обновления пишет, что тел рутованный, хотя рут никто не получал....</td>\n",
       "      <td>2017-06-01</td>\n",
       "      <td>[meizu, pro, обновление, писать, тело, рутованный, хотя, рута, никто, получать]</td>\n",
       "      <td>1</td>\n",
       "    </tr>\n",
       "    <tr>\n",
       "      <th>20653</th>\n",
       "      <td>5</td>\n",
       "      <td>Легко пользоваться этим приложением, благодаря ему можно сохранить много своего личного времени. Спасибо вам огромное!</td>\n",
       "      <td>2017-06-01</td>\n",
       "      <td>[легко, пользоваться, это, приложение, благодаря, сохранить, свой, личный, время, спасибо, огромный]</td>\n",
       "      <td>0</td>\n",
       "    </tr>\n",
       "    <tr>\n",
       "      <th>20654</th>\n",
       "      <td>1</td>\n",
       "      <td>Ну и шляпа,с роот правами бесполезная прога,разрабы,вы чего охренеои что ли,зачем в приложении антивирус запихали,у людей свои стоят,испортили приложение👎👎👎</td>\n",
       "      <td>2017-06-01</td>\n",
       "      <td>[шляпа, роот, право, бесполезный, прога, разраб, охренеой, приложение, антивирус, запихать, человек, свой, стоять, испортить, приложение👎👎👎]</td>\n",
       "      <td>1</td>\n",
       "    </tr>\n",
       "    <tr>\n",
       "      <th>20655</th>\n",
       "      <td>5</td>\n",
       "      <td>Ок</td>\n",
       "      <td>2017-06-01</td>\n",
       "      <td>[около]</td>\n",
       "      <td>0</td>\n",
       "    </tr>\n",
       "    <tr>\n",
       "      <th>20656</th>\n",
       "      <td>4</td>\n",
       "      <td>Доволен</td>\n",
       "      <td>2017-06-01</td>\n",
       "      <td>[довольный]</td>\n",
       "      <td>0</td>\n",
       "    </tr>\n",
       "    <tr>\n",
       "      <th>20657</th>\n",
       "      <td>1</td>\n",
       "      <td>Песопаснасть, рут ни нужын</td>\n",
       "      <td>2017-06-01</td>\n",
       "      <td>[песопаснастя, рута, нужын]</td>\n",
       "      <td>1</td>\n",
       "    </tr>\n",
       "    <tr>\n",
       "      <th>20658</th>\n",
       "      <td>5</td>\n",
       "      <td>Сбербанк бомбовая компания на сегодняшний день. Лидер банков.!! Держитесь в том же духе.</td>\n",
       "      <td>2017-06-01</td>\n",
       "      <td>[сбербанк, бомбовый, компания, сегодняшний, день, лидер, банк, держаться, дух]</td>\n",
       "      <td>0</td>\n",
       "    </tr>\n",
       "  </tbody>\n",
       "</table>\n",
       "</div>"
      ],
      "text/plain": [
       "       Rating                                                                                                                                                       Content        Date                                                                                                                                    clean_text  label\n",
       "20652       2                                                                          Meizu pro6 после обновления пишет, что тел рутованный, хотя рут никто не получал....  2017-06-01                                                               [meizu, pro, обновление, писать, тело, рутованный, хотя, рута, никто, получать]      1\n",
       "20653       5                                        Легко пользоваться этим приложением, благодаря ему можно сохранить много своего личного времени. Спасибо вам огромное!  2017-06-01                                          [легко, пользоваться, это, приложение, благодаря, сохранить, свой, личный, время, спасибо, огромный]      0\n",
       "20654       1  Ну и шляпа,с роот правами бесполезная прога,разрабы,вы чего охренеои что ли,зачем в приложении антивирус запихали,у людей свои стоят,испортили приложение👎👎👎  2017-06-01  [шляпа, роот, право, бесполезный, прога, разраб, охренеой, приложение, антивирус, запихать, человек, свой, стоять, испортить, приложение👎👎👎]      1\n",
       "20655       5                                                                                                                                                            Ок  2017-06-01                                                                                                                                       [около]      0\n",
       "20656       4                                                                                                                                                       Доволен  2017-06-01                                                                                                                                   [довольный]      0\n",
       "20657       1                                                                                                                                    Песопаснасть, рут ни нужын  2017-06-01                                                                                                                   [песопаснастя, рута, нужын]      1\n",
       "20658       5                                                                      Сбербанк бомбовая компания на сегодняшний день. Лидер банков.!! Держитесь в том же духе.  2017-06-01                                                                [сбербанк, бомбовый, компания, сегодняшний, день, лидер, банк, держаться, дух]      0"
      ]
     },
     "execution_count": 12,
     "metadata": {},
     "output_type": "execute_result"
    }
   ],
   "source": [
    "reviews.tail(7)"
   ]
  },
  {
   "cell_type": "code",
   "execution_count": 13,
   "metadata": {
    "id": "foTeWNLU4yXN"
   },
   "outputs": [],
   "source": [
    "train_df, valid_df = model_selection.train_test_split(reviews)"
   ]
  },
  {
   "cell_type": "code",
   "execution_count": 14,
   "metadata": {
    "colab": {
     "base_uri": "https://localhost:8080/"
    },
    "id": "kBsmPqHUJXsY",
    "outputId": "80c71864-9d77-41e2-9d83-c0f279e1d105"
   },
   "outputs": [
    {
     "name": "stdout",
     "output_type": "stream",
     "text": [
      "87614\n"
     ]
    }
   ],
   "source": [
    "full_corpus = []\n",
    "\n",
    "for text in train_df.clean_text:\n",
    "  for word in text:\n",
    "    full_corpus.append(word)\n",
    "\n",
    "print(len(full_corpus))"
   ]
  },
  {
   "cell_type": "code",
   "execution_count": 38,
   "metadata": {
    "colab": {
     "base_uri": "https://localhost:8080/"
    },
    "id": "LDou3RgvMCmB",
    "outputId": "d8e26993-f1e3-46df-ed41-46c6f2747a8e"
   },
   "outputs": [
    {
     "data": {
      "text/plain": [
       "7415"
      ]
     },
     "execution_count": 38,
     "metadata": {},
     "output_type": "execute_result"
    }
   ],
   "source": [
    "freq_dict = Counter(full_corpus)\n",
    "freq_dict_sorted= sorted(freq_dict.items(), key=lambda x: -x[1])\n",
    "len(freq_dict_sorted)"
   ]
  },
  {
   "cell_type": "code",
   "execution_count": 16,
   "metadata": {
    "colab": {
     "base_uri": "https://localhost:8080/"
    },
    "id": "grkjL1EQMRZO",
    "outputId": "65a30d99-1623-440e-a193-1d9a08547776"
   },
   "outputs": [
    {
     "data": {
      "text/plain": [
       "(140, 844, 6431)"
      ]
     },
     "execution_count": 16,
     "metadata": {},
     "output_type": "execute_result"
    }
   ],
   "source": [
    "high_freq_words = []\n",
    "mid_freq_words = []\n",
    "low_freq_words = []\n",
    "\n",
    "for word, freq in freq_dict_sorted:\n",
    "  if freq >= 100:\n",
    "    high_freq_words.append(word)\n",
    "  elif freq < 100 and freq >= 10:\n",
    "    mid_freq_words.append(word)\n",
    "  else: \n",
    "    low_freq_words.append(word)\n",
    "\n",
    "len(high_freq_words), len(mid_freq_words), len(low_freq_words)"
   ]
  },
  {
   "cell_type": "code",
   "execution_count": 17,
   "metadata": {
    "colab": {
     "base_uri": "https://localhost:8080/"
    },
    "id": "qHzMyKZqbvpL",
    "outputId": "57914e82-c900-45c5-b721-98697d477b57"
   },
   "outputs": [
    {
     "data": {
      "text/plain": [
       "984"
      ]
     },
     "execution_count": 17,
     "metadata": {},
     "output_type": "execute_result"
    }
   ],
   "source": [
    "vocab = high_freq_words + mid_freq_words\n",
    "len(vocab)"
   ]
  },
  {
   "cell_type": "code",
   "execution_count": 18,
   "metadata": {
    "colab": {
     "base_uri": "https://localhost:8080/"
    },
    "id": "naglIxcOoNOA",
    "outputId": "4d0c7fc5-a764-48ec-97ef-6b76f279af27"
   },
   "outputs": [],
   "source": [
    "vec1 = CountVectorizer(lowercase=False, analyzer=lambda x: x, ngram_range=(1, 4), vocabulary=vocab)\n",
    "x_train_cv = vec1.fit_transform(train_df.clean_text).toarray()\n",
    "x_valid_cv = vec1.fit_transform(valid_df.clean_text).toarray()"
   ]
  },
  {
   "cell_type": "code",
   "execution_count": 19,
   "metadata": {
    "id": "Dq-0Ak7SPnAD"
   },
   "outputs": [],
   "source": [
    "vec2 = TfidfVectorizer(lowercase=False, analyzer=lambda x: x, ngram_range=(1, 4), vocabulary=vocab)\n",
    "x_train_tfidf = vec2.fit_transform(train_df.clean_text).toarray()\n",
    "x_valid_tfidf = vec2.fit_transform(valid_df.clean_text).toarray()"
   ]
  },
  {
   "cell_type": "code",
   "execution_count": 20,
   "metadata": {
    "id": "qfEKg3Ek_o5I"
   },
   "outputs": [],
   "source": [
    "max_words = len(freq_dict_sorted)\n",
    "max_len = len(vocab)\n",
    "\n",
    "# Training\n",
    "epochs = 20\n",
    "batch_size = 128\n",
    "print_batch_n = 100"
   ]
  },
  {
   "cell_type": "code",
   "execution_count": 21,
   "metadata": {
    "colab": {
     "base_uri": "https://localhost:8080/"
    },
    "id": "_jIdicJsA7rI",
    "outputId": "096efaaf-248e-4856-a85c-ca36c2d94212"
   },
   "outputs": [
    {
     "data": {
      "text/plain": [
       "((15492, 984), (15492, 984))"
      ]
     },
     "execution_count": 21,
     "metadata": {},
     "output_type": "execute_result"
    }
   ],
   "source": [
    "x_train_cv.shape, x_train_tfidf.shape "
   ]
  },
  {
   "cell_type": "code",
   "execution_count": 22,
   "metadata": {
    "colab": {
     "base_uri": "https://localhost:8080/"
    },
    "id": "k6OmyRYPVfik",
    "outputId": "8fecaaba-aff0-401e-9a53-637fad062b85"
   },
   "outputs": [
    {
     "data": {
      "text/plain": [
       "((5164, 984), (5164, 984))"
      ]
     },
     "execution_count": 22,
     "metadata": {},
     "output_type": "execute_result"
    }
   ],
   "source": [
    "x_valid_cv.shape, x_valid_tfidf.shape"
   ]
  },
  {
   "cell_type": "code",
   "execution_count": 23,
   "metadata": {
    "id": "i1WghmzqBcPs"
   },
   "outputs": [],
   "source": [
    "num_classes = 2\n",
    "y_train = keras.utils.to_categorical(train_df.label, num_classes)\n",
    "y_valid = keras.utils.to_categorical(valid_df.label, num_classes)"
   ]
  },
  {
   "cell_type": "code",
   "execution_count": 24,
   "metadata": {
    "id": "2ZCcC2r9FqPe"
   },
   "outputs": [],
   "source": [
    "model = Sequential()\n",
    "model.add(Embedding(input_dim=max_words, output_dim=128, input_length=max_len))\n",
    "model.add(Conv1D(128, 3))\n",
    "model.add(Activation(\"relu\"))\n",
    "model.add(GlobalMaxPool1D())\n",
    "model.add(Dense(10))\n",
    "model.add(Activation(\"relu\"))\n",
    "model.add(Dense(num_classes))\n",
    "model.add(Activation('softmax'))"
   ]
  },
  {
   "cell_type": "code",
   "execution_count": 25,
   "metadata": {
    "id": "DwTrVXLnFzgT"
   },
   "outputs": [],
   "source": [
    "model.compile(loss='CategoricalCrossentropy',\n",
    "              optimizer='adam',\n",
    "              metrics=['accuracy'])"
   ]
  },
  {
   "cell_type": "code",
   "execution_count": 26,
   "metadata": {
    "colab": {
     "base_uri": "https://localhost:8080/"
    },
    "id": "XngCit1MF5zf",
    "outputId": "5dda5f26-366a-42f8-a1a4-a150bbe78de3"
   },
   "outputs": [
    {
     "name": "stdout",
     "output_type": "stream",
     "text": [
      "Epoch 1/20\n",
      "109/109 [==============================] - 63s 113ms/step - loss: 0.5084 - accuracy: 0.8104 - val_loss: 0.4501 - val_accuracy: 0.8232\n",
      "Epoch 2/20\n",
      "109/109 [==============================] - 12s 108ms/step - loss: 0.4402 - accuracy: 0.8289 - val_loss: 0.4464 - val_accuracy: 0.8226\n"
     ]
    }
   ],
   "source": [
    "tensorboard=TensorBoard(log_dir='./logs', write_graph=True, write_images=True)\n",
    "early_stopping=EarlyStopping(monitor='val_loss')  \n",
    "\n",
    "history = model.fit(x_train_cv, y_train,\n",
    "                    batch_size=batch_size,\n",
    "                    epochs=epochs,\n",
    "                    verbose=1,\n",
    "                    validation_split=0.1,\n",
    "                    callbacks=[tensorboard, early_stopping])\n"
   ]
  },
  {
   "cell_type": "code",
   "execution_count": 27,
   "metadata": {
    "colab": {
     "base_uri": "https://localhost:8080/"
    },
    "id": "CPtqblXPGFjg",
    "outputId": "00a03b69-e3ae-4c2e-84eb-a6a795cb0648"
   },
   "outputs": [
    {
     "name": "stdout",
     "output_type": "stream",
     "text": [
      "41/41 [==============================] - 2s 47ms/step - loss: 0.4296 - accuracy: 0.8304\n",
      "\n",
      "\n",
      "Test score: 0.42962104082107544\n",
      "Test accuracy: 0.8303640484809875\n"
     ]
    }
   ],
   "source": [
    "score = model.evaluate(x_valid_cv, y_valid, batch_size=batch_size, verbose=1)\n",
    "print('\\n')\n",
    "print('Test score:', score[0])\n",
    "print('Test accuracy:', score[1])"
   ]
  },
  {
   "cell_type": "code",
   "execution_count": 28,
   "metadata": {
    "colab": {
     "base_uri": "https://localhost:8080/"
    },
    "id": "ZrkmOgPoWx6L",
    "outputId": "d24745fe-5881-45ae-f8d5-46cf56657bea"
   },
   "outputs": [
    {
     "name": "stdout",
     "output_type": "stream",
     "text": [
      "Epoch 1/20\n",
      "109/109 [==============================] - 12s 110ms/step - loss: 0.4763 - accuracy: 0.8092 - val_loss: 0.4673 - val_accuracy: 0.8052\n",
      "Epoch 2/20\n",
      "109/109 [==============================] - 12s 108ms/step - loss: 0.4636 - accuracy: 0.8092 - val_loss: 0.4676 - val_accuracy: 0.8052\n"
     ]
    }
   ],
   "source": [
    "history = model.fit(x_train_tfidf, y_train,\n",
    "                    batch_size=batch_size,\n",
    "                    epochs=epochs,\n",
    "                    verbose=1,\n",
    "                    validation_split=0.1,\n",
    "                    callbacks=[tensorboard, early_stopping])\n"
   ]
  },
  {
   "cell_type": "code",
   "execution_count": 29,
   "metadata": {
    "colab": {
     "base_uri": "https://localhost:8080/"
    },
    "id": "OutfK3WsW43v",
    "outputId": "0dc4ed13-e51d-4640-e6e8-005e6e2664af"
   },
   "outputs": [
    {
     "name": "stdout",
     "output_type": "stream",
     "text": [
      "41/41 [==============================] - 2s 44ms/step - loss: 0.4599 - accuracy: 0.8116\n",
      "\n",
      "\n",
      "Test score: 0.4599459171295166\n",
      "Test accuracy: 0.8115801811218262\n"
     ]
    }
   ],
   "source": [
    "score = model.evaluate(x_valid_tfidf, y_valid, batch_size=batch_size, verbose=1)\n",
    "print('\\n')\n",
    "print('Test score:', score[0])\n",
    "print('Test accuracy:', score[1])"
   ]
  },
  {
   "cell_type": "code",
   "execution_count": 44,
   "metadata": {
    "id": "56uCuOWXpR5m"
   },
   "outputs": [
    {
     "data": {
      "text/plain": [
       "['xxxxxxxx_NUM',\n",
       " 'год_NOUN',\n",
       " 'xxxxxx_NUM',\n",
       " 'xxxxxxx_NUM',\n",
       " 'первый_ADJ',\n",
       " 'время_NOUN',\n",
       " 'человек_NOUN',\n",
       " 'introduction_PROPN',\n",
       " 'один_NUM',\n",
       " 'район_NOUN',\n",
       " 'мочь_VERB',\n",
       " 'стать_VERB',\n",
       " 'так_ADV',\n",
       " 'город_NOUN',\n",
       " 'другой_ADJ',\n",
       " 'область_NOUN',\n",
       " 'быть_VERB',\n",
       " 'новый_ADJ',\n",
       " 'два_NUM',\n",
       " 'перенаправление_NOUN',\n",
       " 'состав_NOUN',\n",
       " 'часть_NOUN',\n",
       " 'россия_PROPN',\n",
       " 'место_NOUN',\n",
       " 'также_ADV',\n",
       " 'являться_VERB',\n",
       " 'где_ADV',\n",
       " 'иметь_VERB',\n",
       " 'работа_NOUN',\n",
       " 'война_NOUN',\n",
       " 'самый_ADJ',\n",
       " 'уже_ADV',\n",
       " 'получить_VERB',\n",
       " 'второй_ADJ',\n",
       " 'день_NOUN',\n",
       " 'век_NOUN',\n",
       " 'еще_ADV',\n",
       " 'российский_ADJ',\n",
       " 'группа_NOUN',\n",
       " 'жизнь_NOUN',\n",
       " 'имя_NOUN',\n",
       " 'мир_NOUN',\n",
       " 'игра_NOUN',\n",
       " 'река_NOUN',\n",
       " 'более_ADV',\n",
       " 'сказать_VERB',\n",
       " 'русский_ADJ',\n",
       " 'говорить_VERB',\n",
       " 'находиться_VERB',\n",
       " 'советский_ADJ',\n",
       " 'государственный_ADJ',\n",
       " 'дело_NOUN',\n",
       " 'сам_ADJ',\n",
       " 'большой_ADJ',\n",
       " 'фильм_NOUN',\n",
       " 'делать_VERB',\n",
       " 'вид_NOUN',\n",
       " 'километр_NOUN',\n",
       " 'сша_PROPN',\n",
       " 'население_NOUN',\n",
       " 'работать_VERB',\n",
       " 'известный_ADJ',\n",
       " 'деревня_NOUN',\n",
       " 'однако_ADV',\n",
       " 'главный_ADJ',\n",
       " 'несколько_NUM',\n",
       " 'язык_NOUN',\n",
       " 'история_NOUN',\n",
       " 'ссср_PROPN',\n",
       " 'москва_PROPN',\n",
       " 'центр_NOUN',\n",
       " 'число_NOUN',\n",
       " 'страна_NOUN',\n",
       " 'род_NOUN',\n",
       " 'начало_NOUN',\n",
       " 'конец_NOUN',\n",
       " 'метр_NOUN',\n",
       " 'три_NUM',\n",
       " 'использовать_VERB',\n",
       " 'дом_NOUN',\n",
       " 'январь_NOUN',\n",
       " 'название_NOUN',\n",
       " 'раз_NOUN',\n",
       " 'команда_NOUN',\n",
       " 'последний_ADJ',\n",
       " 'военный_ADJ',\n",
       " 'смотреть_VERB',\n",
       " 'слово_NOUN',\n",
       " 'сторона_NOUN',\n",
       " 'писать_VERB',\n",
       " 'система_NOUN',\n",
       " 'сентябрь_NOUN',\n",
       " 'октябрь_NOUN',\n",
       " 'составлять_VERB',\n",
       " 'июль_NOUN',\n",
       " 'май_NOUN',\n",
       " 'школа_NOUN',\n",
       " 'август_NOUN',\n",
       " 'член_NOUN',\n",
       " 'декабрь_NOUN',\n",
       " 'знать_VERB',\n",
       " 'очень_ADV',\n",
       " 'of_X',\n",
       " 'март_NOUN',\n",
       " 'должен_ADJ',\n",
       " 'национальный_ADJ',\n",
       " 'the_X',\n",
       " 'округ_NOUN',\n",
       " 'июнь_NOUN',\n",
       " 'великий_ADJ',\n",
       " 'университет_NOUN',\n",
       " 'входить_VERB',\n",
       " 'апрель_NOUN',\n",
       " 'улица_NOUN',\n",
       " 'сила_NOUN',\n",
       " 'результат_NOUN',\n",
       " 'игрок_NOUN',\n",
       " 'ноябрь_NOUN',\n",
       " 'армия_NOUN',\n",
       " 'как_ADV',\n",
       " 'рука_NOUN',\n",
       " 'много_NUM',\n",
       " 'видеть_VERB',\n",
       " 'пункт_NOUN',\n",
       " 'лучший_ADJ',\n",
       " 'территория_NOUN',\n",
       " 'основной_ADJ',\n",
       " 'село_NOUN',\n",
       " 'чемпионат_NOUN',\n",
       " 'книга_NOUN',\n",
       " 'можно_ADV',\n",
       " 'начать_VERB',\n",
       " 'февраль_NOUN',\n",
       " 'сельский_ADJ',\n",
       " 'клуб_NOUN',\n",
       " 'общий_ADJ',\n",
       " 'сайт_NOUN',\n",
       " 'принять_VERB',\n",
       " 'матч_NOUN',\n",
       " 'затем_ADV',\n",
       " 'сын_NOUN',\n",
       " 'данные_NOUN',\n",
       " 'выйти_VERB',\n",
       " 'участие_NOUN',\n",
       " 'женщина_NOUN',\n",
       " 'роль_NOUN',\n",
       " 'друг_NOUN',\n",
       " 'московский_ADJ',\n",
       " 'наука_NOUN',\n",
       " 'рождаться_VERB',\n",
       " 'вместе_ADV',\n",
       " 'международный_ADJ',\n",
       " 'там_ADV',\n",
       " 'жить_VERB',\n",
       " 'сезон_NOUN',\n",
       " 'считать_VERB',\n",
       " 'лицо_NOUN',\n",
       " 'компания_NOUN',\n",
       " 'случай_NOUN',\n",
       " 'песня_NOUN',\n",
       " 'церковь_NOUN',\n",
       " 'образ_NOUN',\n",
       " 'ребенок_NOUN',\n",
       " 'красный_ADJ',\n",
       " 'семья_NOUN',\n",
       " 'образование_NOUN',\n",
       " 'качество_NOUN',\n",
       " 'право_NOUN',\n",
       " 'создать_VERB',\n",
       " 'период_NOUN',\n",
       " 'здесь_ADV',\n",
       " 'отец_NOUN',\n",
       " 'отношение_NOUN',\n",
       " 'идти_VERB',\n",
       " 'вопрос_NOUN',\n",
       " 'партия_NOUN',\n",
       " 'американский_ADJ',\n",
       " 'земля_NOUN',\n",
       " 'альбом_NOUN',\n",
       " 'поселение_NOUN',\n",
       " 'тысяча_NOUN',\n",
       " 'брать_VERB',\n",
       " 'городской_ADJ',\n",
       " 'связь_NOUN',\n",
       " 'следующий_ADJ',\n",
       " 'the_PROPN',\n",
       " 'тогда_ADV',\n",
       " 'развитие_NOUN',\n",
       " 'войска_NOUN',\n",
       " 'дорога_NOUN',\n",
       " 'научный_ADJ',\n",
       " 'украина_PROPN',\n",
       " 'средний_ADJ',\n",
       " 'высокий_ADJ',\n",
       " 'участник_NOUN',\n",
       " 'сборная_NOUN',\n",
       " 'проект_NOUN',\n",
       " 'власть_NOUN',\n",
       " 'крупный_ADJ',\n",
       " 'теперь_ADV',\n",
       " 'институт_NOUN',\n",
       " 'хотеть_VERB',\n",
       " 'автор_NOUN',\n",
       " 'голова_NOUN',\n",
       " 'расположенный_ADJ',\n",
       " 'официальный_ADJ',\n",
       " 'вода_NOUN',\n",
       " 'организация_NOUN',\n",
       " 'ii_NUM',\n",
       " 'глаз_NOUN',\n",
       " 'деятельность_NOUN',\n",
       " 'нет_VERB',\n",
       " 'степень_NOUN',\n",
       " 'театр_NOUN',\n",
       " 'современный_ADJ',\n",
       " 'решение_NOUN',\n",
       " 'политический_ADJ',\n",
       " 'форма_NOUN',\n",
       " 'орден_NOUN',\n",
       " 'bar_X',\n",
       " 'час_NOUN',\n",
       " 'строить_VERB',\n",
       " 'олимпийский_ADJ',\n",
       " 'действие_NOUN',\n",
       " 'станция_NOUN',\n",
       " 'общество_NOUN',\n",
       " 'выступать_VERB',\n",
       " 'франция_PROPN',\n",
       " 'искусство_NOUN',\n",
       " 'премия_NOUN',\n",
       " 'народный_ADJ',\n",
       " 'играть_VERB',\n",
       " 'третий_ADJ',\n",
       " 'уровень_NOUN',\n",
       " 'дать_VERB',\n",
       " 'ряд_NOUN',\n",
       " 'площадь_NOUN',\n",
       " 'смерть_NOUN',\n",
       " 'культура_NOUN',\n",
       " 'остров_NOUN',\n",
       " 'немецкий_ADJ',\n",
       " 'помощь_NOUN',\n",
       " 'европа_PROPN',\n",
       " 'управление_NOUN',\n",
       " 'здание_NOUN',\n",
       " 'статья_NOUN',\n",
       " 'полк_NOUN',\n",
       " 'старый_ADJ',\n",
       " 'совет_NOUN',\n",
       " 'список_NOUN',\n",
       " 'художник_NOUN',\n",
       " 'существовать_VERB',\n",
       " 'xxxxxxxxx_NUM',\n",
       " 'количество_NOUN',\n",
       " 'настоящий_ADJ',\n",
       " 'движение_NOUN',\n",
       " 'дивизия_NOUN',\n",
       " 'служба_NOUN',\n",
       " 'путь_NOUN',\n",
       " 'потом_ADV',\n",
       " 'германия_PROPN',\n",
       " 'состоять_VERB',\n",
       " 'участвовать_VERB',\n",
       " 'завод_NOUN',\n",
       " 'часто_ADV',\n",
       " 'различный_ADJ',\n",
       " 'народ_NOUN',\n",
       " 'брат_NOUN',\n",
       " 'провести_VERB',\n",
       " 'мировой_ADJ',\n",
       " 'умереть_VERB',\n",
       " 'стоять_VERB',\n",
       " 'берег_NOUN',\n",
       " 'тип_NOUN',\n",
       " 'бой_NOUN',\n",
       " 'король_NOUN',\n",
       " 'пройти_VERB',\n",
       " 'житель_NOUN',\n",
       " 'французский_ADJ',\n",
       " 'жена_NOUN',\n",
       " 'например_ADV',\n",
       " 'остаться_VERB',\n",
       " 'белый_ADJ',\n",
       " 'местный_ADJ',\n",
       " 'проходить_VERB',\n",
       " 'полный_ADJ',\n",
       " 'серия_NOUN',\n",
       " 'поздно_ADV',\n",
       " 'цель_NOUN',\n",
       " 'потому_ADV',\n",
       " 'течение_NOUN',\n",
       " 'центральный_ADJ',\n",
       " 'программа_NOUN',\n",
       " 'государство_NOUN',\n",
       " 'почти_ADV',\n",
       " 'молодой_ADJ',\n",
       " 'отечественный_ADJ',\n",
       " 'населённый_ADJ',\n",
       " 'значение_NOUN',\n",
       " 'основать_VERB',\n",
       " 'хороший_ADJ',\n",
       " 'князь_NOUN',\n",
       " 'and_X',\n",
       " 'называть_VERB',\n",
       " 'занять_VERB',\n",
       " 'турнир_NOUN',\n",
       " 'вернуться_VERB',\n",
       " 'состояние_NOUN',\n",
       " 'бывший_ADJ',\n",
       " 'принимать_VERB',\n",
       " 'высший_ADJ',\n",
       " 'журнал_NOUN',\n",
       " 'разный_ADJ',\n",
       " 'линия_NOUN',\n",
       " 'представлять_VERB',\n",
       " 'установить_VERB',\n",
       " 'четыре_NUM',\n",
       " 'карьера_NOUN',\n",
       " 'старший_ADJ',\n",
       " 'правительство_NOUN',\n",
       " 'исследование_NOUN',\n",
       " 'исторический_ADJ',\n",
       " 'святой_ADJ',\n",
       " 'край_NOUN',\n",
       " 'президент_NOUN',\n",
       " 'создание_NOUN',\n",
       " 'производство_NOUN',\n",
       " 'момент_NOUN',\n",
       " 'найти_VERB',\n",
       " 'республика_PROPN',\n",
       " 'назвать_VERB',\n",
       " 'много_ADV',\n",
       " 'вести_VERB',\n",
       " 'занимать_VERB',\n",
       " 'административный_ADJ',\n",
       " 'писатель_NOUN',\n",
       " 'появиться_VERB',\n",
       " 'месяц_NOUN',\n",
       " '2-й_ADJ',\n",
       " 'мужчина_NOUN',\n",
       " 'миллион_NOUN',\n",
       " 'оказаться_VERB',\n",
       " 'глава_NOUN',\n",
       " 'назначить_VERB',\n",
       " 'процесс_NOUN',\n",
       " 'возможность_NOUN',\n",
       " 'ход_NOUN',\n",
       " 'казаться_VERB',\n",
       " 'должность_NOUN',\n",
       " 'войти_VERB',\n",
       " 'фронт_NOUN',\n",
       " 'море_NOUN',\n",
       " 'медаль_NOUN',\n",
       " 'начальник_NOUN',\n",
       " 'заниматься_VERB',\n",
       " 'тут_ADV',\n",
       " 'минута_NOUN',\n",
       " 'союз_PROPN',\n",
       " 'решить_VERB',\n",
       " 'класс_NOUN',\n",
       " 'давать_VERB',\n",
       " 'думать_VERB',\n",
       " 'собственный_ADJ',\n",
       " 'служить_VERB',\n",
       " 'представитель_NOUN',\n",
       " 'нужный_ADJ',\n",
       " 'связать_VERB',\n",
       " 'окончить_VERB',\n",
       " 'мать_NOUN',\n",
       " 'английский_ADJ',\n",
       " 'проводить_VERB',\n",
       " 'надо_ADV',\n",
       " 'сейчас_ADV',\n",
       " 'суд_NOUN',\n",
       " 'музыкальный_ADJ',\n",
       " 'положение_NOUN',\n",
       " 'директор_NOUN',\n",
       " 'основа_NOUN',\n",
       " 'профессор_NOUN',\n",
       " 'дочь_NOUN',\n",
       " 'условие_NOUN',\n",
       " 'фк_PROPN',\n",
       " 'корпус_NOUN',\n",
       " 'всегда_ADV',\n",
       " 'музей_NOUN',\n",
       " 'общественный_ADJ',\n",
       " 'важный_ADJ',\n",
       " 'действовать_VERB',\n",
       " 'впервые_ADV',\n",
       " 'начинать_VERB',\n",
       " 'прийти_VERB',\n",
       " 'отдельный_ADJ',\n",
       " 'председатель_NOUN',\n",
       " 'версия_NOUN',\n",
       " 'командир_NOUN',\n",
       " 'text_X',\n",
       " 'штат_NOUN',\n",
       " 'двор_NOUN',\n",
       " 'проблема_NOUN',\n",
       " 'происходить_VERB',\n",
       " 'труд_NOUN',\n",
       " 'оба_NUM',\n",
       " 'относиться_VERB',\n",
       " 'оставаться_VERB',\n",
       " 'выпустить_VERB',\n",
       " 'de_X',\n",
       " 'from_X',\n",
       " 'представить_VERB',\n",
       " 'граница_NOUN',\n",
       " 'высота_NOUN',\n",
       " 'тело_NOUN',\n",
       " 'чемпион_NOUN',\n",
       " 'империя_NOUN',\n",
       " 'храм_NOUN',\n",
       " 'строительство_NOUN',\n",
       " 'федерация_PROPN',\n",
       " '1-й_ADJ',\n",
       " 'боевой_ADJ',\n",
       " 'победа_NOUN',\n",
       " 'закон_NOUN',\n",
       " 'корабль_NOUN',\n",
       " 'объект_NOUN',\n",
       " 'восточный_ADJ',\n",
       " 'музыка_NOUN',\n",
       " 'золотой_ADJ',\n",
       " 'небольшой_ADJ',\n",
       " 'голос_NOUN',\n",
       " 'длина_NOUN',\n",
       " 'следовать_VERB',\n",
       " 'борьба_NOUN',\n",
       " 'граф_NOUN',\n",
       " 'уезд_NOUN',\n",
       " 'звание_NOUN',\n",
       " 'in_X',\n",
       " 'академия_NOUN',\n",
       " 'верховный_ADJ',\n",
       " 'начаться_VERB',\n",
       " 'открыть_VERB',\n",
       " 'внутренний_ADJ',\n",
       " 'деятель_NOUN',\n",
       " 'пять_NUM',\n",
       " 'поэтому_ADV',\n",
       " 'материал_NOUN',\n",
       " 'генерал_NOUN',\n",
       " 'ночь_NOUN',\n",
       " 'пойти_VERB',\n",
       " 'газета_NOUN',\n",
       " 'данный_ADJ',\n",
       " 'возраст_NOUN',\n",
       " 'ставить_VERB',\n",
       " 'произведение_NOUN',\n",
       " 'министр_NOUN',\n",
       " 'муниципальный_ADJ',\n",
       " 'наиболее_ADV',\n",
       " 'план_NOUN',\n",
       " 'состояться_VERB',\n",
       " 'операция_NOUN',\n",
       " 'менее_ADV',\n",
       " 'причина_NOUN',\n",
       " 'машина_NOUN',\n",
       " 'становиться_VERB',\n",
       " 'руководство_NOUN',\n",
       " 'совет_PROPN',\n",
       " 'письмо_NOUN',\n",
       " 'доктор_NOUN',\n",
       " 'направление_NOUN',\n",
       " 'малый_ADJ',\n",
       " 'перейти_VERB',\n",
       " 'украинский_ADJ',\n",
       " 'картина_NOUN',\n",
       " 'поле_NOUN',\n",
       " 'сельсовет_NOUN',\n",
       " 'личный_ADJ',\n",
       " 'регион_NOUN',\n",
       " 'тренер_NOUN',\n",
       " 'литература_NOUN',\n",
       " 'продолжать_VERB',\n",
       " 'пытаться_VERB',\n",
       " 'летний_ADJ',\n",
       " 'душа_NOUN',\n",
       " 'режиссер_NOUN',\n",
       " 'герой_NOUN',\n",
       " 'губерния_NOUN',\n",
       " 'единственный_ADJ',\n",
       " 'памятник_NOUN',\n",
       " 'подобный_ADJ',\n",
       " 'морской_ADJ',\n",
       " 'деньги_NOUN',\n",
       " 'экономический_ADJ',\n",
       " '2014_ADJ',\n",
       " 'любить_VERB',\n",
       " 'художественный_ADJ',\n",
       " 'политика_NOUN',\n",
       " 'участок_NOUN',\n",
       " 'использование_NOUN',\n",
       " 'провинция_NOUN',\n",
       " 'большинство_NOUN',\n",
       " 'честь_NOUN',\n",
       " 'хозяйство_NOUN',\n",
       " 'показать_VERB',\n",
       " 'точка_NOUN',\n",
       " 'свет_NOUN',\n",
       " 'нога_NOUN',\n",
       " 'перепись_NOUN',\n",
       " 'till_X',\n",
       " 'социальный_ADJ',\n",
       " 'северный_PROPN',\n",
       " 'сидеть_VERB',\n",
       " 'событие_NOUN',\n",
       " 'особенно_ADV',\n",
       " 'британский_ADJ',\n",
       " 'гражданский_ADJ',\n",
       " 'необходимый_ADJ',\n",
       " 'источник_NOUN',\n",
       " 'мнение_NOUN',\n",
       " 'погибнуть_VERB',\n",
       " 'специальный_ADJ',\n",
       " 'италия_PROPN',\n",
       " 'спросить_VERB',\n",
       " 'предприятие_NOUN',\n",
       " 'несмотря_ADV',\n",
       " 'роман_NOUN',\n",
       " 'лес_NOUN',\n",
       " 'коммуна_NOUN',\n",
       " 'депутат_NOUN',\n",
       " 'пора_NOUN',\n",
       " 'монастырь_NOUN',\n",
       " 'лига_NOUN',\n",
       " 'железный_ADJ',\n",
       " 'мера_NOUN',\n",
       " 'женский_ADJ',\n",
       " 'привести_VERB',\n",
       " 'сразу_ADV',\n",
       " 'составить_VERB',\n",
       " 'издание_NOUN',\n",
       " 'гора_NOUN',\n",
       " 'иногда_ADV',\n",
       " 'убить_VERB',\n",
       " 'технический_ADJ',\n",
       " 'сильный_ADJ',\n",
       " 'позиция_NOUN',\n",
       " 'орган_NOUN',\n",
       " 'кубок_PROPN',\n",
       " '1944_ADJ',\n",
       " 'левый_ADJ',\n",
       " 'км²_PROPN',\n",
       " 'принадлежать_VERB',\n",
       " 'понимать_VERB',\n",
       " 'снова_ADV',\n",
       " 'правило_NOUN',\n",
       " 'метод_NOUN',\n",
       " 'вскоре_ADV',\n",
       " 'спорт_NOUN',\n",
       " 'хорошо_ADV',\n",
       " 'южный_PROPN',\n",
       " 'особый_ADJ',\n",
       " '3-й_ADJ',\n",
       " 'проживать_VERB',\n",
       " 'близкий_ADJ',\n",
       " 'заместитель_NOUN',\n",
       " 'выходить_VERB',\n",
       " 'задача_NOUN',\n",
       " 'половина_NOUN',\n",
       " 'iii_NUM',\n",
       " 'больше_ADV',\n",
       " 'нижний_ADJ',\n",
       " 'информация_NOUN',\n",
       " 'сыграть_VERB',\n",
       " 'размер_NOUN',\n",
       " 'отделение_NOUN',\n",
       " 'окончание_NOUN',\n",
       " 'выборы_NOUN',\n",
       " 'рано_ADV',\n",
       " 'вновь_ADV',\n",
       " 'память_NOUN',\n",
       " 'далеко_ADV',\n",
       " 'стена_NOUN',\n",
       " 'внимание_NOUN',\n",
       " 'озеро_NOUN',\n",
       " 'награда_NOUN',\n",
       " 'лето_NOUN',\n",
       " 'северный_ADJ',\n",
       " 'противник_NOUN',\n",
       " 'идея_NOUN',\n",
       " 'маленький_ADJ',\n",
       " 'произойти_VERB',\n",
       " 'оставить_VERB',\n",
       " 'ныне_ADV',\n",
       " 'комитет_NOUN',\n",
       " 'волость_NOUN',\n",
       " 'объявить_VERB',\n",
       " 'иметься_VERB',\n",
       " 'великобритания_PROPN',\n",
       " 'конечно_ADV',\n",
       " 'никогда_ADV',\n",
       " 'влияние_NOUN',\n",
       " 'футбол_NOUN',\n",
       " 'отряд_NOUN',\n",
       " 'стиль_NOUN',\n",
       " 'факультет_NOUN',\n",
       " 'база_NOUN',\n",
       " 'муж_NOUN',\n",
       " 'царь_NOUN',\n",
       " 'успех_NOUN',\n",
       " 'древний_ADJ',\n",
       " 'изменение_NOUN',\n",
       " 'западный_ADJ',\n",
       " 'основание_NOUN',\n",
       " 'этап_NOUN',\n",
       " 'теория_NOUN',\n",
       " 'получать_VERB',\n",
       " 'итог_NOUN',\n",
       " 'поэт_NOUN',\n",
       " 'цвет_NOUN',\n",
       " 'поддержка_NOUN',\n",
       " 'передать_VERB',\n",
       " 'кладбище_NOUN',\n",
       " 'тонна_NOUN',\n",
       " 'спортивный_ADJ',\n",
       " 'мысль_NOUN',\n",
       " 'рубль_NOUN',\n",
       " 'император_NOUN',\n",
       " 'почему_ADV',\n",
       " 'код_NOUN',\n",
       " 'структура_NOUN',\n",
       " 'любовь_NOUN',\n",
       " 'позволять_VERB',\n",
       " 'финал_NOUN',\n",
       " 'выиграть_VERB',\n",
       " 'значительный_ADJ',\n",
       " 'широкий_ADJ',\n",
       " 'детский_ADJ',\n",
       " 'стрелковый_ADJ',\n",
       " 'посёлка_NOUN',\n",
       " 'куда_ADV',\n",
       " 'килограмм_NOUN',\n",
       " 'правый_ADJ',\n",
       " 'модель_NOUN',\n",
       " 'уйти_VERB',\n",
       " 'руководитель_NOUN',\n",
       " 'вечер_NOUN',\n",
       " 'курс_NOUN',\n",
       " 'офицер_NOUN',\n",
       " 'текст_NOUN',\n",
       " 'капитан_NOUN',\n",
       " 'самолет_NOUN',\n",
       " 'расстояние_NOUN',\n",
       " 'снять_VERB',\n",
       " 'выпускник_NOUN',\n",
       " 'элемент_NOUN',\n",
       " 'понять_VERB',\n",
       " 'вдруг_ADV',\n",
       " 'просить_VERB',\n",
       " 'совсем_ADV',\n",
       " 'дверь_NOUN',\n",
       " 'попасть_VERB',\n",
       " 'бригада_NOUN',\n",
       " 'порядок_NOUN',\n",
       " 'встречаться_VERB',\n",
       " 'актер_NOUN',\n",
       " 'серебряный_ADJ',\n",
       " 'быстро_ADV',\n",
       " 'солдат_NOUN',\n",
       " 'xx_NUM',\n",
       " 'выход_NOUN',\n",
       " 'отдел_NOUN',\n",
       " 'чемпионат_PROPN',\n",
       " 'иной_ADJ',\n",
       " 'страница_NOUN',\n",
       " 'юг_NOUN',\n",
       " 'редактор_NOUN',\n",
       " 'южный_ADJ',\n",
       " 'требовать_VERB',\n",
       " 'опубликовать_VERB',\n",
       " 'впоследствии_ADV',\n",
       " 'карта_NOUN',\n",
       " 'номер_NOUN',\n",
       " 'париж_PROPN',\n",
       " 'православный_ADJ',\n",
       " 'епископ_NOUN',\n",
       " 'зона_NOUN',\n",
       " 'избрать_VERB',\n",
       " 'открытый_ADJ',\n",
       " 'польский_ADJ',\n",
       " 'дальнейший_ADJ',\n",
       " 'черный_ADJ',\n",
       " 'соревнование_NOUN',\n",
       " 'япония_PROPN',\n",
       " 'больший_ADJ',\n",
       " 'включить_VERB',\n",
       " 'счет_NOUN',\n",
       " 'верхний_ADJ',\n",
       " 'удаться_VERB',\n",
       " 'америка_PROPN',\n",
       " 'защита_NOUN',\n",
       " 'училище_NOUN',\n",
       " 'полковник_NOUN',\n",
       " 'живой_ADJ',\n",
       " 'неделя_NOUN',\n",
       " 'обычно_ADV',\n",
       " 'оборона_NOUN',\n",
       " 'флот_NOUN',\n",
       " 'читать_VERB',\n",
       " 'сцена_NOUN',\n",
       " 'авиационный_ADJ',\n",
       " 'включать_VERB',\n",
       " 'комната_NOUN',\n",
       " 'футбольный_ADJ',\n",
       " 'организовывать_VERB',\n",
       " 'железнодорожный_ADJ',\n",
       " 'рабочий_ADJ',\n",
       " 'литературный_ADJ',\n",
       " 'комплекс_NOUN',\n",
       " 'сегодня_ADV',\n",
       " 'парк_NOUN',\n",
       " 'опять_ADV',\n",
       " 'учиться_VERB',\n",
       " 'профессиональный_ADJ',\n",
       " 'остальной_ADJ',\n",
       " 'выступление_NOUN',\n",
       " 'тяжелый_ADJ',\n",
       " 'частность_NOUN',\n",
       " 'температура_NOUN',\n",
       " 'водный_ADJ',\n",
       " 'наконец_ADV',\n",
       " 'называться_VERB',\n",
       " 'заявить_VERB',\n",
       " 'пост_NOUN',\n",
       " 'север_NOUN',\n",
       " 'сотрудник_NOUN',\n",
       " 'интерес_NOUN',\n",
       " 'фамилия_NOUN',\n",
       " 'возможный_ADJ',\n",
       " 'простой_ADJ',\n",
       " 'собрание_NOUN',\n",
       " 'xix_NUM',\n",
       " 'оружие_NOUN',\n",
       " 'отличие_NOUN',\n",
       " 'воздух_NOUN',\n",
       " 'середина_NOUN',\n",
       " 'активный_ADJ',\n",
       " 'девушка_NOUN',\n",
       " 'тема_NOUN',\n",
       " 'отметить_VERB',\n",
       " 'сеть_NOUN',\n",
       " 'титул_NOUN',\n",
       " 'польша_PROPN',\n",
       " 'лежать_VERB',\n",
       " 'знак_NOUN',\n",
       " 'внешний_ADJ',\n",
       " 'рядом_ADV',\n",
       " 'футболист_NOUN',\n",
       " 'младший_ADJ',\n",
       " 'равный_ADJ',\n",
       " 'федеральный_ADJ',\n",
       " 'предложить_VERB',\n",
       " 'медицинский_ADJ',\n",
       " 'документ_NOUN',\n",
       " 'сердце_NOUN',\n",
       " 'генеральный_ADJ',\n",
       " 'полностью_ADV',\n",
       " 'множество_NOUN',\n",
       " 'сериал_NOUN',\n",
       " 'зал_NOUN',\n",
       " 'китай_PROPN',\n",
       " 'испания_PROPN',\n",
       " 'стол_NOUN',\n",
       " 'вызвать_VERB',\n",
       " 'содержать_VERB',\n",
       " 'гражданин_NOUN',\n",
       " 'огромный_ADJ',\n",
       " 'примерно_ADV',\n",
       " 'эпизод_NOUN',\n",
       " 'слышать_VERB',\n",
       " 'совершенно_ADV',\n",
       " 'англия_PROPN',\n",
       " 'выставка_NOUN',\n",
       " 'большой_PROPN',\n",
       " 'узнать_VERB',\n",
       " 'перевод_NOUN',\n",
       " 'растение_NOUN',\n",
       " 'утро_NOUN',\n",
       " 'свободный_ADJ',\n",
       " 'постоянный_ADJ',\n",
       " 'разработка_NOUN',\n",
       " 'функция_NOUN',\n",
       " 'канал_NOUN',\n",
       " 'штаб_NOUN',\n",
       " 'поступить_VERB',\n",
       " 'сср_PROPN',\n",
       " 'иностранный_ADJ',\n",
       " 'пример_NOUN',\n",
       " 'отвечать_VERB',\n",
       " 'физический_ADJ',\n",
       " 'запись_NOUN',\n",
       " 'выпуск_NOUN',\n",
       " 'характер_NOUN',\n",
       " 'ранний_ADJ',\n",
       " 'итальянский_ADJ',\n",
       " 'библиотека_NOUN',\n",
       " 'неизвестный_ADJ',\n",
       " 'обнаружить_VERB',\n",
       " 'происхождение_NOUN',\n",
       " 'японский_ADJ',\n",
       " 'взгляд_NOUN',\n",
       " 'санкт-петербург_PROPN',\n",
       " 'разработать_VERB',\n",
       " 'секунда_NOUN',\n",
       " 'рассказ_NOUN',\n",
       " 'победитель_NOUN',\n",
       " 'кафедра_NOUN',\n",
       " 'революция_NOUN',\n",
       " 'бывать_VERB',\n",
       " 'учебный_ADJ',\n",
       " 'мастер_NOUN',\n",
       " 'встреча_NOUN',\n",
       " 'вообще_ADV',\n",
       " 'подготовка_NOUN',\n",
       " 'орден_PROPN',\n",
       " 'автомобиль_NOUN',\n",
       " 'природа_NOUN',\n",
       " 'речь_NOUN',\n",
       " 'вариант_NOUN',\n",
       " 'фильм_PROPN',\n",
       " 'статус_NOUN',\n",
       " 'мало_ADV',\n",
       " 'техника_NOUN',\n",
       " 'носить_VERB',\n",
       " 'целый_ADJ',\n",
       " 'категория_NOUN',\n",
       " 'рамка_NOUN',\n",
       " 'персонаж_NOUN',\n",
       " 'исполнять_VERB',\n",
       " 'прийтись_VERB',\n",
       " 'шесть_NUM',\n",
       " 'почётный_ADJ',\n",
       " 'батальон_NOUN',\n",
       " 'направить_VERB',\n",
       " 'община_NOUN',\n",
       " 'союз_NOUN',\n",
       " 'признать_VERB',\n",
       " 'терять_VERB',\n",
       " 'рождение_NOUN',\n",
       " 'дерево_NOUN',\n",
       " 'герой_PROPN',\n",
       " 'подписать_VERB',\n",
       " 'достичь_VERB',\n",
       " 'средство_NOUN',\n",
       " '4-й_ADJ',\n",
       " 'окно_NOUN',\n",
       " 'социалистический_ADJ',\n",
       " 'срок_NOUN',\n",
       " 'ходить_VERB',\n",
       " 'располагаться_VERB',\n",
       " 'частный_ADJ',\n",
       " 'попытка_NOUN',\n",
       " 'нью-йорк_PROPN',\n",
       " 'скорость_NOUN',\n",
       " 'миллиметр_NOUN',\n",
       " 'республика_NOUN',\n",
       " 'образовывать_VERB',\n",
       " 'описать_VERB',\n",
       " 'доллар_NOUN',\n",
       " 'раунд_NOUN',\n",
       " 'сестра_NOUN',\n",
       " 'сесть_VERB',\n",
       " 'собор_NOUN',\n",
       " 'оценка_NOUN',\n",
       " 'духовный_ADJ',\n",
       " 'опыт_NOUN',\n",
       " 'нельзя_ADV',\n",
       " 'пара_NOUN',\n",
       " 'одновременно_ADV',\n",
       " 'устройство_NOUN',\n",
       " 'fontsize_X',\n",
       " 'длинный_ADJ',\n",
       " 'комиссия_NOUN',\n",
       " 'сильно_ADV',\n",
       " 'назад_ADV',\n",
       " 'очередь_NOUN',\n",
       " 'ситуация_NOUN',\n",
       " 'бог_NOUN',\n",
       " 'чувство_NOUN',\n",
       " 'мост_NOUN',\n",
       " '2012_NOUN',\n",
       " 'секретарь_NOUN',\n",
       " 'масса_NOUN',\n",
       " 'алфавит_NOUN',\n",
       " 'сначала_ADV',\n",
       " 'уметь_VERB',\n",
       " 'битва_NOUN',\n",
       " 'звезда_NOUN',\n",
       " 'семейство_NOUN',\n",
       " 'технология_NOUN',\n",
       " 'пользоваться_VERB',\n",
       " 'королевский_ADJ',\n",
       " 'рсфср_PROPN',\n",
       " 'короткий_ADJ',\n",
       " 'европейский_ADJ',\n",
       " 'довольно_ADV',\n",
       " 'ответ_NOUN',\n",
       " 'ответить_VERB',\n",
       " 'круг_NOUN',\n",
       " 'герцог_NOUN',\n",
       " 'изображение_NOUN',\n",
       " 'предмет_NOUN',\n",
       " 'смысл_NOUN',\n",
       " 'преподаватель_NOUN',\n",
       " 'предел_NOUN',\n",
       " 'студент_NOUN',\n",
       " 'римский_ADJ',\n",
       " 'двигатель_NOUN',\n",
       " 'рынок_NOUN',\n",
       " 'заметить_VERB',\n",
       " 'чёрный_ADJ',\n",
       " 'удар_NOUN',\n",
       " 'низкий_ADJ',\n",
       " 'width_X',\n",
       " 'бронзовый_ADJ',\n",
       " 'культурный_ADJ',\n",
       " 'свобода_NOUN',\n",
       " 'рассказывать_VERB',\n",
       " 'проведение_NOUN',\n",
       " 'рост_NOUN',\n",
       " 'отказаться_VERB',\n",
       " 'командование_NOUN',\n",
       " 'брак_NOUN',\n",
       " 'актриса_NOUN',\n",
       " 'позволить_VERB',\n",
       " 'сад_NOUN',\n",
       " 'передача_NOUN',\n",
       " 'бассейн_NOUN',\n",
       " 'композитор_NOUN',\n",
       " 'лидер_NOUN',\n",
       " 'производить_VERB',\n",
       " 'врач_NOUN',\n",
       " 'описание_NOUN',\n",
       " 'способ_NOUN',\n",
       " 'мужской_ADJ',\n",
       " 'особенность_NOUN',\n",
       " 'гвардейский_ADJ',\n",
       " 'далее_ADV',\n",
       " 'горный_ADJ',\n",
       " 'др_NOUN',\n",
       " 'человеческий_ADJ',\n",
       " 'киев_PROPN',\n",
       " 'столица_NOUN',\n",
       " 'приказ_NOUN',\n",
       " 'кандидат_NOUN',\n",
       " 'at_X',\n",
       " 'появляться_VERB',\n",
       " 'отличаться_VERB',\n",
       " 'восток_NOUN',\n",
       " 'isbn_NOUN',\n",
       " 'кино_NOUN',\n",
       " 'александр_PROPN',\n",
       " 'огонь_NOUN',\n",
       " 'угол_NOUN',\n",
       " 'китайский_ADJ',\n",
       " 'режим_NOUN',\n",
       " 'поддерживать_VERB',\n",
       " 'принцип_NOUN',\n",
       " 'точно_ADV',\n",
       " 'архитектор_NOUN',\n",
       " 'животное_NOUN',\n",
       " 'учреждение_NOUN',\n",
       " 'композиция_NOUN',\n",
       " 'ученый_NOUN',\n",
       " 'прежний_ADJ',\n",
       " 'казахстан_PROPN',\n",
       " 'факт_NOUN',\n",
       " 'холодный_ADJ',\n",
       " 'институт_PROPN',\n",
       " 'воздушный_ADJ',\n",
       " 'наградить_VERB',\n",
       " 'конкурс_NOUN',\n",
       " 'среда_NOUN',\n",
       " 'прямой_ADJ',\n",
       " 'сообщение_NOUN',\n",
       " 'безопасность_NOUN',\n",
       " 'контракт_NOUN',\n",
       " 'сложный_ADJ',\n",
       " 'совершить_VERB',\n",
       " 'сохраниться_VERB',\n",
       " 'промышленность_NOUN',\n",
       " 'замок_NOUN',\n",
       " 'вступить_VERB',\n",
       " 'сборник_NOUN',\n",
       " 'численность_NOUN',\n",
       " 'ученик_NOUN',\n",
       " 'контроль_NOUN',\n",
       " 'правление_NOUN',\n",
       " 'лист_NOUN',\n",
       " 'ленинградский_ADJ',\n",
       " 'бог_PROPN',\n",
       " 'сантиметр_NOUN',\n",
       " 'товарищ_NOUN',\n",
       " 'специалист_NOUN',\n",
       " 'вещь_NOUN',\n",
       " 'сведение_NOUN',\n",
       " ...]"
      ]
     },
     "execution_count": 44,
     "metadata": {},
     "output_type": "execute_result"
    }
   ],
   "source": [
    "import gensim\n",
    "import zipfile\n",
    "embed_model = gensim.models.KeyedVectors.load_word2vec_format(\"model.bin\", binary=True)"
   ]
  },
  {
   "cell_type": "code",
   "execution_count": 49,
   "metadata": {
    "id": "bRceLoG2yOWv"
   },
   "outputs": [],
   "source": [
    "def gensim_to_keras_embedding(model, train_embeddings=False, remove=[]):\n",
    "    \"\"\"Get a Keras 'Embedding' layer with weights set from Word2Vec model's learned word embeddings.\n",
    "\n",
    "    Parameters\n",
    "    ----------\n",
    "    train_embeddings : bool\n",
    "        If False, the returned weights are frozen and stopped from being updated.\n",
    "        If True, the weights can / will be further updated in Keras.\n",
    "\n",
    "    Returns\n",
    "    -------\n",
    "    `keras.layers.Embedding`\n",
    "        Embedding layer, to be used as input to deeper network layers.\n",
    "\n",
    "    \"\"\"\n",
    "    keyed_vectors = model   # structure holding the result of training\n",
    "    weights = keyed_vectors.vectors  # vectors themselves, a 2D numpy array    \n",
    "    remove_indices = []\n",
    "    for word in remove:\n",
    "        index = model.get_index(word)\n",
    "        if index == None:\n",
    "            continue\n",
    "        remove_indices.append(index)\n",
    "    weights = np.delete(weights, remove_indices, axis=0)\n",
    "    #index_to_key = keyed_vectors.index_to_key  # which row in `weights` corresponds to which word?\n",
    "\n",
    "    layer = Embedding(\n",
    "        input_dim=weights.shape[0],\n",
    "        output_dim=weights.shape[1],\n",
    "        weights=[weights],\n",
    "        trainable=train_embeddings,\n",
    "    )\n",
    "    return layer"
   ]
  },
  {
   "cell_type": "code",
   "execution_count": 47,
   "metadata": {
    "colab": {
     "base_uri": "https://localhost:8080/"
    },
    "id": "78vxznuor9z2",
    "outputId": "d4c0e90f-01be-40a8-a792-c77c132b0fa9"
   },
   "outputs": [
    {
     "name": "stdout",
     "output_type": "stream",
     "text": [
      "5079\n"
     ]
    }
   ],
   "source": [
    "#gensim_to_keras_embedding(embed_model)\n",
    "vocab_pretrained = []\n",
    "counter = 0\n",
    "seen_words = set()\n",
    "words_to_remove = []\n",
    "for k, v in embed_model.key_to_index.items():\n",
    "  und_ind = k.index('_')\n",
    "  mod_k = k[0:und_ind]\n",
    "\n",
    "  if mod_k not in freq_dict:\n",
    "    words_to_remove.append(k)\n",
    "    continue\n",
    "    \n",
    "  if mod_k in seen_words:\n",
    "    words_to_remove.append(k)\n",
    "    continue\n",
    "    #mod_k = mod_k+str(counter)\n",
    "    #counter += 1\n",
    "\n",
    "  vocab_pretrained.append(mod_k)\n",
    "  seen_words.add(mod_k)\n",
    "  \n",
    "\n",
    "print(len(vocab_pretrained))"
   ]
  },
  {
   "cell_type": "code",
   "execution_count": 40,
   "metadata": {
    "colab": {
     "base_uri": "https://localhost:8080/"
    },
    "id": "3jtKYoFZ08pM",
    "outputId": "4ff56ff4-0397-4a55-82b5-7c12626f1869"
   },
   "outputs": [],
   "source": [
    "vec1 = CountVectorizer(lowercase=False, analyzer=lambda x: x, ngram_range=(1, 4), vocabulary=vocab_pretrained, max_features=300)\n",
    "x_train_cv = vec1.fit_transform(train_df.clean_text).toarray()\n",
    "x_valid_cv = vec1.fit_transform(valid_df.clean_text).toarray()"
   ]
  },
  {
   "cell_type": "code",
   "execution_count": 41,
   "metadata": {
    "id": "g41Z7TWM1Fr1"
   },
   "outputs": [],
   "source": [
    "vec2 = TfidfVectorizer(lowercase=False, analyzer=lambda x: x, ngram_range=(1, 4), vocabulary=vocab_pretrained, max_features=300)\n",
    "x_train_tfidf = vec2.fit_transform(train_df.clean_text).toarray()\n",
    "x_valid_tfidf = vec2.fit_transform(valid_df.clean_text).toarray()"
   ]
  },
  {
   "cell_type": "code",
   "execution_count": 42,
   "metadata": {
    "id": "cewafuNn1U67"
   },
   "outputs": [],
   "source": [
    "max_words = len(vocab_pretrained)\n",
    "max_len = 300\n",
    "\n",
    "# Training\n",
    "epochs = 20\n",
    "batch_size = 128\n",
    "print_batch_n = 100"
   ]
  },
  {
   "cell_type": "code",
   "execution_count": 43,
   "metadata": {
    "colab": {
     "base_uri": "https://localhost:8080/"
    },
    "id": "oVFSHvqw1ZjD",
    "outputId": "126e5494-0b6b-4cf0-ef70-7920cdfd8b19"
   },
   "outputs": [
    {
     "data": {
      "text/plain": [
       "((15492, 5079), (15492, 5079))"
      ]
     },
     "execution_count": 43,
     "metadata": {},
     "output_type": "execute_result"
    }
   ],
   "source": [
    "x_train_cv.shape, x_train_tfidf.shape "
   ]
  },
  {
   "cell_type": "code",
   "execution_count": 50,
   "metadata": {
    "id": "fkjCIBMh6urn"
   },
   "outputs": [],
   "source": [
    "model = Sequential()\n",
    "model.add(gensim_to_keras_embedding(embed_model, remove=words_to_remove))\n",
    "model.add(Conv1D(128, 3))\n",
    "model.add(Activation(\"relu\"))\n",
    "model.add(GlobalMaxPool1D())\n",
    "model.add(Dense(10))\n",
    "model.add(Activation(\"relu\"))\n",
    "model.add(Dense(num_classes))\n",
    "model.add(Activation('softmax'))"
   ]
  },
  {
   "cell_type": "code",
   "execution_count": 51,
   "metadata": {
    "id": "2T-2L3Id7qyh"
   },
   "outputs": [],
   "source": [
    "model.compile(loss='CategoricalCrossentropy',\n",
    "              optimizer='adam',\n",
    "              metrics=['accuracy'])"
   ]
  },
  {
   "cell_type": "code",
   "execution_count": 52,
   "metadata": {
    "id": "zym3iaQ379Av"
   },
   "outputs": [
    {
     "name": "stdout",
     "output_type": "stream",
     "text": [
      "Epoch 1/20\n",
      "109/109 [==============================] - 63s 559ms/step - loss: 0.4789 - accuracy: 0.8073 - val_loss: 0.4465 - val_accuracy: 0.8219\n",
      "Epoch 2/20\n",
      "109/109 [==============================] - 60s 547ms/step - loss: 0.4504 - accuracy: 0.8264 - val_loss: 0.4540 - val_accuracy: 0.8258\n"
     ]
    }
   ],
   "source": [
    "tensorboard=TensorBoard(log_dir='./logs', write_graph=True, write_images=True)\n",
    "early_stopping=EarlyStopping(monitor='val_loss')  \n",
    "\n",
    "history = model.fit(x_train_cv, y_train,\n",
    "                    batch_size=batch_size,\n",
    "                    epochs=epochs,\n",
    "                    verbose=1,\n",
    "                    validation_split=0.1,\n",
    "                    callbacks=[tensorboard, early_stopping])\n"
   ]
  },
  {
   "cell_type": "code",
   "execution_count": 53,
   "metadata": {
    "id": "QNQFtx8H75dI"
   },
   "outputs": [
    {
     "name": "stdout",
     "output_type": "stream",
     "text": [
      "41/41 [==============================] - 10s 242ms/step - loss: 0.4340 - accuracy: 0.8309\n",
      "\n",
      "\n",
      "Test score: 0.43400633335113525\n",
      "Test accuracy: 0.8309450149536133\n"
     ]
    }
   ],
   "source": [
    "score = model.evaluate(x_valid_cv, y_valid, batch_size=batch_size, verbose=1)\n",
    "print('\\n')\n",
    "print('Test score:', score[0])\n",
    "print('Test accuracy:', score[1])"
   ]
  },
  {
   "cell_type": "code",
   "execution_count": 54,
   "metadata": {
    "id": "z3_HKdU_-6T-"
   },
   "outputs": [
    {
     "name": "stdout",
     "output_type": "stream",
     "text": [
      "Epoch 1/20\n",
      "109/109 [==============================] - 60s 549ms/step - loss: 0.4832 - accuracy: 0.8092 - val_loss: 0.4666 - val_accuracy: 0.8052\n",
      "Epoch 2/20\n",
      "109/109 [==============================] - 59s 546ms/step - loss: 0.4673 - accuracy: 0.8092 - val_loss: 0.4715 - val_accuracy: 0.8052\n"
     ]
    }
   ],
   "source": [
    "history = model.fit(x_train_tfidf, y_train,\n",
    "                    batch_size=batch_size,\n",
    "                    epochs=epochs,\n",
    "                    verbose=1,\n",
    "                    validation_split=0.1,\n",
    "                    callbacks=[tensorboard, early_stopping])\n"
   ]
  },
  {
   "cell_type": "code",
   "execution_count": 55,
   "metadata": {
    "id": "q82xM6R2-92Q"
   },
   "outputs": [
    {
     "name": "stdout",
     "output_type": "stream",
     "text": [
      "41/41 [==============================] - 10s 233ms/step - loss: 0.4660 - accuracy: 0.8116\n",
      "\n",
      "\n",
      "Test score: 0.46598175168037415\n",
      "Test accuracy: 0.8115801811218262\n"
     ]
    }
   ],
   "source": [
    "score = model.evaluate(x_valid_tfidf, y_valid, batch_size=batch_size, verbose=1)\n",
    "print('\\n')\n",
    "print('Test score:', score[0])\n",
    "print('Test accuracy:', score[1])"
   ]
  },
  {
   "cell_type": "markdown",
   "metadata": {},
   "source": [
    "Вывод:\n",
    "Разницы в результатах при использовании эмбеддинга со случайными весами и с предобученными весами не выявлено. Предположительно, если бы было необходимо использовать весб набор слов из предобученной модели, сэкономили бы время на тренировке, в текущих условиях словарь получился довоьно маленький, и разница не заметна."
   ]
  }
 ],
 "metadata": {
  "colab": {
   "gpuType": "T4",
   "provenance": []
  },
  "gpuClass": "standard",
  "kernelspec": {
   "display_name": "Python 3",
   "language": "python",
   "name": "python3"
  },
  "language_info": {
   "codemirror_mode": {
    "name": "ipython",
    "version": 3
   },
   "file_extension": ".py",
   "mimetype": "text/x-python",
   "name": "python",
   "nbconvert_exporter": "python",
   "pygments_lexer": "ipython3",
   "version": "3.8.8"
  }
 },
 "nbformat": 4,
 "nbformat_minor": 1
}
