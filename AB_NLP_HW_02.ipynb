{
 "cells": [
  {
   "cell_type": "code",
   "execution_count": 1,
   "metadata": {
    "colab": {
     "base_uri": "https://localhost:8080/"
    },
    "executionInfo": {
     "elapsed": 13298,
     "status": "ok",
     "timestamp": 1681164944463,
     "user": {
      "displayName": "Alina Bogdanovskaya",
      "userId": "08472614992431204809"
     },
     "user_tz": -180
    },
    "id": "Ztxsm9T42JW-",
    "outputId": "fb4aa5b8-9d9c-40fd-efc3-705990a8beb6"
   },
   "outputs": [
    {
     "name": "stdout",
     "output_type": "stream",
     "text": [
      "Requirement already satisfied: pymorphy2 in c:\\users\\alina\\anaconda3\\lib\\site-packages (0.9.1)\n",
      "Requirement already satisfied: dawg-python>=0.7.1 in c:\\users\\alina\\anaconda3\\lib\\site-packages (from pymorphy2) (0.7.2)\n",
      "Requirement already satisfied: pymorphy2-dicts-ru<3.0,>=2.4 in c:\\users\\alina\\anaconda3\\lib\\site-packages (from pymorphy2) (2.4.417127.4579844)\n",
      "Requirement already satisfied: docopt>=0.6 in c:\\users\\alina\\anaconda3\\lib\\site-packages (from pymorphy2) (0.6.2)\n"
     ]
    }
   ],
   "source": [
    "!pip install pymorphy2"
   ]
  },
  {
   "cell_type": "code",
   "execution_count": 1,
   "metadata": {
    "executionInfo": {
     "elapsed": 3628,
     "status": "ok",
     "timestamp": 1681164948089,
     "user": {
      "displayName": "Alina Bogdanovskaya",
      "userId": "08472614992431204809"
     },
     "user_tz": -180
    },
    "id": "E2x_MJ-HhzTw"
   },
   "outputs": [],
   "source": [
    "import pandas as pd\n",
    "import numpy as np\n",
    "import seaborn as sns\n",
    "import matplotlib.pyplot as plt\n",
    "%matplotlib inline \n",
    "\n",
    "from sklearn.metrics import *\n",
    "from sklearn.model_selection import train_test_split\n",
    "from sklearn.linear_model import LogisticRegression\n",
    "from sklearn.pipeline import Pipeline\n",
    "from sklearn.feature_extraction.text import CountVectorizer, TfidfVectorizer, HashingVectorizer\n",
    "\n",
    "import html\n",
    "import re\n",
    "import nltk\n",
    "from nltk import *\n",
    "from nltk.probability import FreqDist\n",
    "from collections import Counter\n",
    "\n",
    "import warnings \n",
    "warnings.filterwarnings(\"ignore\", category=DeprecationWarning)"
   ]
  },
  {
   "cell_type": "code",
   "execution_count": 2,
   "metadata": {
    "colab": {
     "base_uri": "https://localhost:8080/"
    },
    "executionInfo": {
     "elapsed": 4218,
     "status": "ok",
     "timestamp": 1681164952306,
     "user": {
      "displayName": "Alina Bogdanovskaya",
      "userId": "08472614992431204809"
     },
     "user_tz": -180
    },
    "id": "wYvEVR6vnGxR",
    "outputId": "23ca0bed-dbaa-403c-eb47-52b1d471944a"
   },
   "outputs": [],
   "source": [
    "# считываем данные и заполняем общий датасет\n",
    "positive = pd.read_csv('positive.csv', sep=';', usecols=[3], names=['text'])\n",
    "positive['label'] = ['positive'] * len(positive)\n",
    "positive['class_label'] = [0] * len(positive)\n",
    "negative = pd.read_csv('negative.csv', sep=';', usecols=[3], names=['text'])\n",
    "negative['label'] = ['negative'] * len(negative)\n",
    "negative['class_label'] = [1] * len(negative)\n",
    "df = positive.append(negative)"
   ]
  },
  {
   "cell_type": "code",
   "execution_count": 4,
   "metadata": {
    "colab": {
     "base_uri": "https://localhost:8080/",
     "height": 423
    },
    "executionInfo": {
     "elapsed": 9,
     "status": "ok",
     "timestamp": 1681164952307,
     "user": {
      "displayName": "Alina Bogdanovskaya",
      "userId": "08472614992431204809"
     },
     "user_tz": -180
    },
    "id": "vOGvx2POoXdb",
    "outputId": "da6c8de3-1590-4d9a-a965-bdefbf1b790b"
   },
   "outputs": [
    {
     "data": {
      "text/html": [
       "<div>\n",
       "<style scoped>\n",
       "    .dataframe tbody tr th:only-of-type {\n",
       "        vertical-align: middle;\n",
       "    }\n",
       "\n",
       "    .dataframe tbody tr th {\n",
       "        vertical-align: top;\n",
       "    }\n",
       "\n",
       "    .dataframe thead th {\n",
       "        text-align: right;\n",
       "    }\n",
       "</style>\n",
       "<table border=\"1\" class=\"dataframe\">\n",
       "  <thead>\n",
       "    <tr style=\"text-align: right;\">\n",
       "      <th></th>\n",
       "      <th>text</th>\n",
       "      <th>label</th>\n",
       "      <th>class_label</th>\n",
       "    </tr>\n",
       "  </thead>\n",
       "  <tbody>\n",
       "    <tr>\n",
       "      <th>0</th>\n",
       "      <td>@first_timee хоть я и школота, но поверь, у на...</td>\n",
       "      <td>positive</td>\n",
       "      <td>0</td>\n",
       "    </tr>\n",
       "    <tr>\n",
       "      <th>1</th>\n",
       "      <td>Да, все-таки он немного похож на него. Но мой ...</td>\n",
       "      <td>positive</td>\n",
       "      <td>0</td>\n",
       "    </tr>\n",
       "    <tr>\n",
       "      <th>2</th>\n",
       "      <td>RT @KatiaCheh: Ну ты идиотка) я испугалась за ...</td>\n",
       "      <td>positive</td>\n",
       "      <td>0</td>\n",
       "    </tr>\n",
       "    <tr>\n",
       "      <th>3</th>\n",
       "      <td>RT @digger2912: \"Кто то в углу сидит и погибае...</td>\n",
       "      <td>positive</td>\n",
       "      <td>0</td>\n",
       "    </tr>\n",
       "    <tr>\n",
       "      <th>4</th>\n",
       "      <td>@irina_dyshkant Вот что значит страшилка :D\\nН...</td>\n",
       "      <td>positive</td>\n",
       "      <td>0</td>\n",
       "    </tr>\n",
       "    <tr>\n",
       "      <th>...</th>\n",
       "      <td>...</td>\n",
       "      <td>...</td>\n",
       "      <td>...</td>\n",
       "    </tr>\n",
       "    <tr>\n",
       "      <th>111918</th>\n",
       "      <td>Но не каждый хочет что то исправлять:( http://...</td>\n",
       "      <td>negative</td>\n",
       "      <td>1</td>\n",
       "    </tr>\n",
       "    <tr>\n",
       "      <th>111919</th>\n",
       "      <td>скучаю так :-( только @taaannyaaa вправляет мо...</td>\n",
       "      <td>negative</td>\n",
       "      <td>1</td>\n",
       "    </tr>\n",
       "    <tr>\n",
       "      <th>111920</th>\n",
       "      <td>Вот и в школу, в говно это идти уже надо(</td>\n",
       "      <td>negative</td>\n",
       "      <td>1</td>\n",
       "    </tr>\n",
       "    <tr>\n",
       "      <th>111921</th>\n",
       "      <td>RT @_Them__: @LisaBeroud Тауриэль, не грусти :...</td>\n",
       "      <td>negative</td>\n",
       "      <td>1</td>\n",
       "    </tr>\n",
       "    <tr>\n",
       "      <th>111922</th>\n",
       "      <td>Такси везет меня на работу. Раздумываю приплат...</td>\n",
       "      <td>negative</td>\n",
       "      <td>1</td>\n",
       "    </tr>\n",
       "  </tbody>\n",
       "</table>\n",
       "<p>226834 rows × 3 columns</p>\n",
       "</div>"
      ],
      "text/plain": [
       "                                                     text     label  \\\n",
       "0       @first_timee хоть я и школота, но поверь, у на...  positive   \n",
       "1       Да, все-таки он немного похож на него. Но мой ...  positive   \n",
       "2       RT @KatiaCheh: Ну ты идиотка) я испугалась за ...  positive   \n",
       "3       RT @digger2912: \"Кто то в углу сидит и погибае...  positive   \n",
       "4       @irina_dyshkant Вот что значит страшилка :D\\nН...  positive   \n",
       "...                                                   ...       ...   \n",
       "111918  Но не каждый хочет что то исправлять:( http://...  negative   \n",
       "111919  скучаю так :-( только @taaannyaaa вправляет мо...  negative   \n",
       "111920          Вот и в школу, в говно это идти уже надо(  negative   \n",
       "111921  RT @_Them__: @LisaBeroud Тауриэль, не грусти :...  negative   \n",
       "111922  Такси везет меня на работу. Раздумываю приплат...  negative   \n",
       "\n",
       "        class_label  \n",
       "0                 0  \n",
       "1                 0  \n",
       "2                 0  \n",
       "3                 0  \n",
       "4                 0  \n",
       "...             ...  \n",
       "111918            1  \n",
       "111919            1  \n",
       "111920            1  \n",
       "111921            1  \n",
       "111922            1  \n",
       "\n",
       "[226834 rows x 3 columns]"
      ]
     },
     "execution_count": 4,
     "metadata": {},
     "output_type": "execute_result"
    }
   ],
   "source": [
    "df"
   ]
  },
  {
   "cell_type": "code",
   "execution_count": 3,
   "metadata": {
    "executionInfo": {
     "elapsed": 8,
     "status": "ok",
     "timestamp": 1681164952307,
     "user": {
      "displayName": "Alina Bogdanovskaya",
      "userId": "08472614992431204809"
     },
     "user_tz": -180
    },
    "id": "se4oQo5lCyqw"
   },
   "outputs": [],
   "source": [
    "emoticon_dict_rus = {\n",
    "\"!(^^)!\": \"придумал\",\n",
    "\"))\": \"улыбка\",\n",
    "\")))\": \"улыбка\",\n",
    "\"))))\": \"улыбка\",\n",
    "\")\": \"улыбка\",\n",
    "\"':-)\": \"голова выбрита с одной стороны\",\n",
    "\":)\": \"улыбка\",\n",
    "\":-)\": \"улыбка\",\n",
    "\";-)\": \"улыбка с подмигиванием\",\n",
    "\"%-)\": \"смущение\",\n",
    "\"( ^)t ... f(^ )\": \"дуэль\",\n",
    "\"( ^_^)(^_^ )\": \"друзья\",\n",
    "\"( ^_^)/\": \"привет\",\n",
    "\"( ^_^)U---------U(^_^ )\": \"по телефону\",\n",
    "\"( ´ ▽ ` )ﾉ\": \"наконец дома\",\n",
    "\"( ﾟ▽ﾟ)/\": \"добрый вечер\",\n",
    "\"(!_!)\": \"потрясение\",\n",
    "'(\"\\(o_O)/\")': \"превед\",\n",
    "\"(#^_^#)\": \"покраснел\",\n",
    "\"($_$)\": \"жадность\",\n",
    "\"(%_%)\": \"после ночи за компьютером\",\n",
    "\"((((((^_^;)\": \"тихо убегаю\",\n",
    "\"((+_+))\": \"uhmmmm\",\n",
    "\"(*^.^*)\": \"возбуждён\",\n",
    "\"(*^^*)\": \"смущение\",\n",
    "\"(*^-^*)/\": \"привет!\",\n",
    "\"(*^o^*)\": \"возбуждён\",\n",
    "\"(*_*)\": \"восхищение\",\n",
    "\"(-.-)Zzz..\": \"сон\", \n",
    "\"(.-.)\": \"стоим на голове\",\n",
    "\"(//_-)\": \"скептик\",\n",
    "\"(//_*)\": \"восторг\",\n",
    "\"(//_^)\": \"радость\",\n",
    "\"(//_о)\": \"удивление\",\n",
    "\"(/_\\)\": \"тает\",\n",
    "\"(\": \"печаль\",\n",
    "\"((\": \"печаль\",\n",
    "\"(((\": \"печаль\",\n",
    "\"((((\": \"печаль\",\n",
    "\"(:-)\": \"рот до ушей\",\n",
    "\"(;,,,;)\": \"Ктулху\",\n",
    "\"(;_;)\": \"плач\", \n",
    "\"(;_;)/~~\": \"машущий рукой на прощание\",\n",
    "\"(?_?)\": \"растерянность\",\n",
    "\"(@_@)\": \"обалдение\",\n",
    "\"(^)(*О_О*)\": \"поцелуй и удивление\",\n",
    "\"(^)(^^)\": \"поцелуй\",\n",
    "\"(^.^)\": \"женская улыбка\",\n",
    "\"(^^ )3 ( ^^) ... (^^ )\": \"подслушал\",\n",
    "\"(^^)\": \"вампир\", \n",
    "\"(^,,^)\": \"вампир\",\n",
    "\"(^^')\": \"смущение\",\n",
    "\"(^^;)\": \"смущение\",\n",
    "\"(^_^)\": \"весёлый\",\n",
    "\"(^_^)( ^_)( ^)( )(^ )(_^ )\": \"закрутился\",\n",
    "\"(^_^)( ^_)( ^)( )(^ )(_^ )(@_@)\": \"закрутился до тошноты\",\n",
    "\"(^_^)/\": \"привет\",\n",
    "\"(^_^)/\\(^_^)\": \"дай пять\",\n",
    "\"(^_^)/~~\": \"привет\",\n",
    "\"(^_^)V\": \"победа!\",\n",
    "\"(^_^;)\": \"нервный смех\",\n",
    "\"(^_^;;;)\": \"смущение\",\n",
    "\"(^_^?)\": \"не понял\",\n",
    "\"(^_^K^^)\": \"шептать\",\n",
    "\"(^_____^)\": \"радость\",\n",
    "\"(^_~)\": \"подмигивание\",\n",
    "\"(-_^)\": \"подмигивание\",\n",
    "\"(^0_0^)\": \"фыркающая свинка\",\n",
    "\"(^L^)\": \"счастлив\", \n",
    "\"(^(^)\": \"счастлив\",\n",
    "\"(^o^)\": \"смех\",\n",
    "\"(^o^)/\": \"спасибо\",\n",
    "\"(^o_o^)\": \"свинка\",\n",
    "\"<3\": \"любовь\",\n",
    "\"(-_(-_(-_-)_-)\": \"толпа\",\n",
    "\"(-_-)\": \"грусть\",\n",
    "\"(-_-;)\": \"болезнь\",\n",
    "\"(+.+)(-.-)(_ _)\": \"упал без сил\",\n",
    "\"(+_+)\": \"смерть\",\n",
    "\"(=^_^=)\": \"кошка\",\n",
    "\"(=_=)\": \"не спал ночью\",\n",
    "\"(>.O)\": \"дали в глаз\",\n",
    "\"(>_< )( >_<)\": \"сильное отрицание\",\n",
    "\"(>_<)\": \"злой\",\n",
    "\"(¬_¬)\": \"ага, конечно\", \n",
    "\"(8-о\": \"с похмелья\",\n",
    "\"(D_D)i!i!i!i!i! (%_%)\": \"гипноз\",\n",
    "\"(G_G)\": \"сильно утомлен\",\n",
    "\"(L_L)\": \"ага, конечно\",\n",
    "\"(Г_Г)\": \"ага, конечно\",\n",
    "\"(O_O)\": \"удивление\",\n",
    "\"(T_T)\": \"плач\",\n",
    "\"(V_v)\": \"печаль\",\n",
    "\"(V_v)\": \"неприятное удивление\",\n",
    "\"(X_x)\": \"без башки\",\n",
    "\"(о_О)\": \"офигеть\",\n",
    "\"(о_о)\": \"удивление\",\n",
    "\"(Т-Т)\": \"жалость\",\n",
    "\"*:-)\": \"в колпаке Санта Клауса\",\n",
    "\"*:о)\": \"клоун\",\n",
    "\"*^_^*\": \"стеснение\",\n",
    "\",-)\": \"подмигивающий одноглазый\",\n",
    "\",:-)\": \"голова выбрита с другой стороны\",\n",
    "\".-)\": \"одноглазый\",\n",
    "\":-'\": \"сплёвывающий табак\",\n",
    "\":-#\": \"молчание\",\n",
    "\":-$\": \"рот на замок\",\n",
    "\":-%\": \"банкир\",\n",
    "\":-&\": \"лишившийся дара речи / смутившийся / косноязычный\",\n",
    "\":-(\": \"печаль\",\n",
    "\":'-(\": \"плач\",\n",
    "\"-:-(\": \"неулыбающийся панк\",\n",
    "\":(\": \"печаль\", \n",
    "\":'-(\": \"плач от горя\",\n",
    "\"-:-)\": \"панк\",\n",
    "\":'-)\": \"плач от счастья\",\n",
    "\":-)_)\": \"смех\",\n",
    "\":-)~\": \"валяющий дурака\",\n",
    "\":-)D)\": \"смех\",\n",
    "\":-)х\": \"галстук - бабочка\",\n",
    "\":-*\": \"поцелуй\",\n",
    "\":*)\": \"пьяный\",\n",
    "\":**\": \"поцелуй\",\n",
    "\":-*\": \"угрюмый\",\n",
    "\":*\": \"поцелуй\",\n",
    "\":-/\": \"скептик\",\n",
    "\":-\": \"сплевыватель\",\n",
    "\"::-)\": \"очкарик\",\n",
    "\":-?\": \"курящий трубку\",\n",
    "\":-@\": \"крик ужаса\",\n",
    "\":-[\": \"злая усмешка\",\n",
    "\":[\": \"неулыбающийся болван\",\n",
    "\":-[\": \"вампир\",\n",
    "\":[\": \"лодырь\",\n",
    "\":-[\": \"неулыбающийся болван\",\n",
    "\":-]\": \"сарказм\",\n",
    "\":^\": \"нос сломан\",\n",
    "\":_)\": \"нос соскользнул с лица\",\n",
    "\":_0\": \"нос сдвинут с лица\",\n",
    "\":-{)\": \"усатый\",\n",
    "\":-{\": \"усатый\",\n",
    "\":-{}\": \"девочка, красящая губы\",\n",
    "\":-|\": \"безразличие\",\n",
    "\":-}\": \"ирония\",\n",
    "\":~(\": \"печаль\",\n",
    "\":~)\": \"со сломанным носом\",\n",
    "\":-~)\": \"замёрзший\",\n",
    "\":-<\": \"печаль\",\n",
    "\":=)\": \"два носа\",\n",
    "\":->\": \"злая усмешка\",\n",
    "\":-1\": \"нормально\",\n",
    "\":-7\": \"кривая улыбка\",\n",
    "\":-9\": \"облизываться\",\n",
    "\":-c\": \"плохо\",\n",
    "\":-C\": \"плохо\",\n",
    "\":-D\": \"смех\",\n",
    "\"D\": \"смех\",\n",
    "\":D\": \"смех\",\n",
    "\":DD\": \"смех\",\n",
    "\":DDD\": \"смех\",\n",
    "\":DDDD\": \"смех\",\n",
    "\":DDDDD\": \"смех\",\n",
    "\":DDDDDD\": \"смех\",\n",
    "\"DD\": \"смех\",\n",
    "\"DDD\": \"смех\",\n",
    "\"DDDD\": \"смех\",\n",
    "\"DDDDD\": \"смех\",\n",
    "\"DDDDDD\": \"смех\",\n",
    "\":-d\": \"насмешка\",\n",
    "\":-E\": \"вампир с торчащими зубами\",\n",
    "\":-F\": \"вампир с обломанным клыком\",\n",
    "\":-i\": \"полуулыбка\",\n",
    "\":-j\": \"улыбка\",\n",
    "\":-k\": \"бейте меня!\",\n",
    "\":n)\": \"забавно выглядящий нос\",\n",
    "\":-o\": \"изумление\",\n",
    "\":O\": \"громко говоит\",\n",
    "\":-P\": \"показывает язык\",\n",
    "\":-Q\": \"курящий\",\n",
    "\":-q\": \"пытающийся достать языком до носа\",\n",
    "\":-s\": \"непоследовательный, бессвязный\",\n",
    "\":-S\": \"несогласованное утверждение\",\n",
    "\":-t\": \"злой\",\n",
    "\":u)\": \"забавно выглядящий нос\",\n",
    "\":v)\": \"нос сломан в другом направлении\",\n",
    "\":-v\": \"говорящая голова\",\n",
    "\":-X\": \"запечатанные губы\",\n",
    "\":Y\": \"зевает\",\n",
    "\":-а\": \"пытающийся достать языком до носа\",\n",
    "\":-Е\": \"клыкастый вампир\",\n",
    "\":-е\": \"разочарование\",\n",
    "\":о)\": \"клоун\",\n",
    "\":-о\": \"ox-ox\",\n",
    "\":-О\": \"не ори!\", \n",
    "\":-р\": \"показывает язык\",\n",
    "\":-С\": \"лодырь\",\n",
    "\":-х\": \"рот на замке\",\n",
    "\";-(\": \"плач\",\n",
    "\";-)\": \"подмигивание\",\n",
    "\";->\": \"подмигивание\",\n",
    "\"@%-D\": \"я не могу - я валяюсь!\",\n",
    "\"@:-)\": \"в тюрбане\",\n",
    "\"@^_^@\": \"в наушниках\",\n",
    "\"@>,,X@\": \"дохлый вампир в наушниках, умер от меткого удара в глаз\",\n",
    "\"[:-)\": \"в наушниках\",\n",
    "\"\\(^_^)/\": \"радость\",\n",
    "\"\\(^o\\)(/o^)/\": \"еще одни танцульки\",\n",
    "\"\\(O_O)/\": \"удивление\",\n",
    "\"\\\\(<.<|>.>)//\": \"оглядывается вокруг\",\n",
    "\"]\": \"весёлый\",\n",
    "\"^(*-*)^\": \"ликование\",\n",
    "\"^^(^_^)^^\": \"летучая мышка\",\n",
    "\"^>.<^\": \"енот\",\n",
    "\"{:-)\": \"в парике\",\n",
    "\"{[(-_-)(-_-)]}\": \"заснули вместе\",\n",
    "\"{{ (>_<) }}\": \"холодно\",\n",
    "\"|-|\": \"спит\",\n",
    "\"|~o\": \"храпит\",\n",
    "\"|-O\": \"зевает\",\n",
    "\"}(0_0){\": \"инопланетянин\",\n",
    "\"}:-)\": \"парик дыбом\",\n",
    "\"+-:-)\": \"Папа Римский\",\n",
    "\"<:-(\": \"грустно\",\n",
    "\"=:-)\": \"гладкоголовый\",\n",
    "\">:-)\": \"дьявол\",\n",
    "\">:->\": \"саркастическая физиономия с дьявольским оттенком\",\n",
    "\">[-)\": \"китаец\",\n",
    "\">|-(\": \"не понимающий таких шуток китаец\",\n",
    "\"3:о[\": \"клоун\",\n",
    "\"8(>_< )8\": \"ревность\",\n",
    "\"8(>_<)8\": \"ревность\",\n",
    "\"8-)\": \"в солнечных очках\",\n",
    "\"8:-)\": \"колдун - невидимка / маленькая девочка\",\n",
    "\"8-|\": \"встревоженный\",\n",
    "\"d-(^_^)-b\": \"Thumbs up\",\n",
    "\"d(^_^)b\": \"музон в наушниках\",\n",
    "\"D_D\": \"удивление\",\n",
    "\"d8=\": \"бородач в тёмных очках\",\n",
    "\"g-)\": \"пенсне\",\n",
    "\"m(._.)m\": \"извините\",\n",
    "\"o(^-^o)(o^-^)o o(^-^o)(o^-^)o\": \"танцы\",\n",
    "\"o(^_-)O\": \"ободряющий толчок\",\n",
    "\"o(∩_∩)o\": \"радость\",\n",
    "\"O_p\": \"тушь потекла / слезы из глаз\",\n",
    "\"O|-)\": \"религиозный\",\n",
    "\"Surprised)\": \"клоун\",\n",
    "\"W(`0`)W\": \"крик от злости\",\n",
    "\"XD\": \"смех\",\n",
    "\"ХD\": \"смех\",\n",
    "\"В-)\": \"в очках\",\n",
    "\"В:-)\": \"с очками на лбу\",\n",
    "\"Г(^_^)7\": \"с руками за головой\",\n",
    "\"Ж:-)_)\": \"У меня от смеха волосы дыбом\",\n",
    "\"о-)\": \"циклоп\",\n",
    "\"о:-)\": \"ангел\",\n",
    "\"С=:-)\": \"шеф - повар\",\n",
    "\"ヾ(^∇^)\": \"ура, утро!\"\n",
    "}"
   ]
  },
  {
   "cell_type": "code",
   "execution_count": 4,
   "metadata": {
    "executionInfo": {
     "elapsed": 7,
     "status": "ok",
     "timestamp": 1681164952307,
     "user": {
      "displayName": "Alina Bogdanovskaya",
      "userId": "08472614992431204809"
     },
     "user_tz": -180
    },
    "id": "ynOSxWTWZmVT"
   },
   "outputs": [],
   "source": [
    "def emoticons_to_text(txt):\n",
    "  result = []\n",
    "  for word in txt.split():\n",
    "    if word in emoticon_dict_rus.keys():\n",
    "      result.append(emoticon_dict_rus.get(word))\n",
    "    else:\n",
    "      result.append(word)\n",
    "  return ' '.join(result)"
   ]
  },
  {
   "cell_type": "code",
   "execution_count": 5,
   "metadata": {
    "executionInfo": {
     "elapsed": 8,
     "status": "ok",
     "timestamp": 1681164952308,
     "user": {
      "displayName": "Alina Bogdanovskaya",
      "userId": "08472614992431204809"
     },
     "user_tz": -180
    },
    "id": "LaOaD2lRDrwQ"
   },
   "outputs": [],
   "source": [
    "import pymorphy2\n",
    "morph = pymorphy2.MorphAnalyzer()\n",
    "def preprocess_text(txt):\n",
    "  txt = html.unescape(txt)\n",
    "  txt = re.sub('@[\\w]*', ' ', txt)\n",
    "  txt = re.sub('RT', ' ', txt)\n",
    "  txt = re.sub(r'https?://\\S+', ' ', txt)\n",
    "  txt = re.sub(r'([:cyrillic:]*)(d|D+)', r'\\1 \\2', txt)\n",
    "  txt = emoticons_to_text(txt)\n",
    "  txt = txt.lower()\n",
    "  txt = re.sub('[0-9]|[-—.,:;_%©«»?*!@#№$^•·\"&()]|[+=]|[[]|[]]|[/]|[..]|[...]|[....]', ' ', txt)\n",
    "  # txt = [word for word in txt.split() if word not in stopwords.words('russian')]\n",
    "  # cache = {}\n",
    "  # normal_words = []\n",
    "  # for word in txt:\n",
    "  #   if word in cache:\n",
    "  #     normal_words.append(cache[word])\n",
    "  #   else:\n",
    "  #     temp_cach = cache[word] = morph.parse(word)[0].normal_form\n",
    "  #     normal_words.append(temp_cach)\n",
    "    \n",
    "  return txt"
   ]
  },
  {
   "cell_type": "code",
   "execution_count": 6,
   "metadata": {
    "colab": {
     "base_uri": "https://localhost:8080/"
    },
    "executionInfo": {
     "elapsed": 6547,
     "status": "ok",
     "timestamp": 1681164958847,
     "user": {
      "displayName": "Alina Bogdanovskaya",
      "userId": "08472614992431204809"
     },
     "user_tz": -180
    },
    "id": "-3QKNKGEaytX",
    "outputId": "34a8e13b-9edb-4697-858d-519b2f17f2d1"
   },
   "outputs": [
    {
     "name": "stderr",
     "output_type": "stream",
     "text": [
      "<ipython-input-5-64a3ef109dbc>:11: FutureWarning: Possible nested set at position 40\n",
      "  txt = re.sub('[0-9]|[-—.,:;_%©«»?*!@#№$^•·\"&()]|[+=]|[[]|[]]|[/]|[..]|[...]|[....]', ' ', txt)\n"
     ]
    }
   ],
   "source": [
    "df['clean_text'] = df.text.apply(preprocess_text)"
   ]
  },
  {
   "cell_type": "code",
   "execution_count": 9,
   "metadata": {
    "colab": {
     "base_uri": "https://localhost:8080/",
     "height": 423
    },
    "executionInfo": {
     "elapsed": 13,
     "status": "ok",
     "timestamp": 1681164958848,
     "user": {
      "displayName": "Alina Bogdanovskaya",
      "userId": "08472614992431204809"
     },
     "user_tz": -180
    },
    "id": "if57YlzBbO8D",
    "outputId": "959a61ed-df64-4c9a-dbbf-f6058270d17d"
   },
   "outputs": [
    {
     "data": {
      "text/html": [
       "<div>\n",
       "<style scoped>\n",
       "    .dataframe tbody tr th:only-of-type {\n",
       "        vertical-align: middle;\n",
       "    }\n",
       "\n",
       "    .dataframe tbody tr th {\n",
       "        vertical-align: top;\n",
       "    }\n",
       "\n",
       "    .dataframe thead th {\n",
       "        text-align: right;\n",
       "    }\n",
       "</style>\n",
       "<table border=\"1\" class=\"dataframe\">\n",
       "  <thead>\n",
       "    <tr style=\"text-align: right;\">\n",
       "      <th></th>\n",
       "      <th>text</th>\n",
       "      <th>label</th>\n",
       "      <th>class_label</th>\n",
       "      <th>clean_text</th>\n",
       "    </tr>\n",
       "  </thead>\n",
       "  <tbody>\n",
       "    <tr>\n",
       "      <th>0</th>\n",
       "      <td>@first_timee хоть я и школота, но поверь, у на...</td>\n",
       "      <td>positive</td>\n",
       "      <td>0</td>\n",
       "      <td>хоть я и школота  но поверь  у нас то же самое...</td>\n",
       "    </tr>\n",
       "    <tr>\n",
       "      <th>1</th>\n",
       "      <td>Да, все-таки он немного похож на него. Но мой ...</td>\n",
       "      <td>positive</td>\n",
       "      <td>0</td>\n",
       "      <td>да  все таки он немного похож на него  но мой ...</td>\n",
       "    </tr>\n",
       "    <tr>\n",
       "      <th>2</th>\n",
       "      <td>RT @KatiaCheh: Ну ты идиотка) я испугалась за ...</td>\n",
       "      <td>positive</td>\n",
       "      <td>0</td>\n",
       "      <td>ну ты идиотка  я испугалась за тебя</td>\n",
       "    </tr>\n",
       "    <tr>\n",
       "      <th>3</th>\n",
       "      <td>RT @digger2912: \"Кто то в углу сидит и погибае...</td>\n",
       "      <td>positive</td>\n",
       "      <td>0</td>\n",
       "      <td>кто то в углу сидит и погибает от голода  а...</td>\n",
       "    </tr>\n",
       "    <tr>\n",
       "      <th>4</th>\n",
       "      <td>@irina_dyshkant Вот что значит страшилка :D\\nН...</td>\n",
       "      <td>positive</td>\n",
       "      <td>0</td>\n",
       "      <td>вот что значит страшилка   смех но блин посмот...</td>\n",
       "    </tr>\n",
       "    <tr>\n",
       "      <th>...</th>\n",
       "      <td>...</td>\n",
       "      <td>...</td>\n",
       "      <td>...</td>\n",
       "      <td>...</td>\n",
       "    </tr>\n",
       "    <tr>\n",
       "      <th>111918</th>\n",
       "      <td>Но не каждый хочет что то исправлять:( http://...</td>\n",
       "      <td>negative</td>\n",
       "      <td>1</td>\n",
       "      <td>но не каждый хочет что то исправлять</td>\n",
       "    </tr>\n",
       "    <tr>\n",
       "      <th>111919</th>\n",
       "      <td>скучаю так :-( только @taaannyaaa вправляет мо...</td>\n",
       "      <td>negative</td>\n",
       "      <td>1</td>\n",
       "      <td>скучаю так печаль только вправляет мозги  но я...</td>\n",
       "    </tr>\n",
       "    <tr>\n",
       "      <th>111920</th>\n",
       "      <td>Вот и в школу, в говно это идти уже надо(</td>\n",
       "      <td>negative</td>\n",
       "      <td>1</td>\n",
       "      <td>вот и в школу  в говно это идти уже надо</td>\n",
       "    </tr>\n",
       "    <tr>\n",
       "      <th>111921</th>\n",
       "      <td>RT @_Them__: @LisaBeroud Тауриэль, не грусти :...</td>\n",
       "      <td>negative</td>\n",
       "      <td>1</td>\n",
       "      <td>тауриэль  не грусти печаль  обнял</td>\n",
       "    </tr>\n",
       "    <tr>\n",
       "      <th>111922</th>\n",
       "      <td>Такси везет меня на работу. Раздумываю приплат...</td>\n",
       "      <td>negative</td>\n",
       "      <td>1</td>\n",
       "      <td>такси везет меня на работу  раздумываю приплат...</td>\n",
       "    </tr>\n",
       "  </tbody>\n",
       "</table>\n",
       "<p>226834 rows × 4 columns</p>\n",
       "</div>"
      ],
      "text/plain": [
       "                                                     text     label  \\\n",
       "0       @first_timee хоть я и школота, но поверь, у на...  positive   \n",
       "1       Да, все-таки он немного похож на него. Но мой ...  positive   \n",
       "2       RT @KatiaCheh: Ну ты идиотка) я испугалась за ...  positive   \n",
       "3       RT @digger2912: \"Кто то в углу сидит и погибае...  positive   \n",
       "4       @irina_dyshkant Вот что значит страшилка :D\\nН...  positive   \n",
       "...                                                   ...       ...   \n",
       "111918  Но не каждый хочет что то исправлять:( http://...  negative   \n",
       "111919  скучаю так :-( только @taaannyaaa вправляет мо...  negative   \n",
       "111920          Вот и в школу, в говно это идти уже надо(  negative   \n",
       "111921  RT @_Them__: @LisaBeroud Тауриэль, не грусти :...  negative   \n",
       "111922  Такси везет меня на работу. Раздумываю приплат...  negative   \n",
       "\n",
       "        class_label                                         clean_text  \n",
       "0                 0  хоть я и школота  но поверь  у нас то же самое...  \n",
       "1                 0  да  все таки он немного похож на него  но мой ...  \n",
       "2                 0             ну ты идиотка  я испугалась за тебя     \n",
       "3                 0     кто то в углу сидит и погибает от голода  а...  \n",
       "4                 0  вот что значит страшилка   смех но блин посмот...  \n",
       "...             ...                                                ...  \n",
       "111918            1             но не каждый хочет что то исправлять    \n",
       "111919            1  скучаю так печаль только вправляет мозги  но я...  \n",
       "111920            1          вот и в школу  в говно это идти уже надо   \n",
       "111921            1                 тауриэль  не грусти печаль  обнял   \n",
       "111922            1  такси везет меня на работу  раздумываю приплат...  \n",
       "\n",
       "[226834 rows x 4 columns]"
      ]
     },
     "execution_count": 9,
     "metadata": {},
     "output_type": "execute_result"
    }
   ],
   "source": [
    "df"
   ]
  },
  {
   "cell_type": "markdown",
   "metadata": {
    "id": "drN1C7QLC6Vx"
   },
   "source": [
    "## Задание 1.\n",
    "Обучите три классификатора:\n",
    "\n",
    "1) на токенах с высокой частотой\n",
    "\n",
    "2) на токенах со средней частотой\n",
    "\n",
    "3) на токенах с низкой частотой\n",
    "\n",
    "Сравните полученные результаты, оцените какие токены наиболее важные для классификации."
   ]
  },
  {
   "cell_type": "code",
   "execution_count": 7,
   "metadata": {
    "colab": {
     "base_uri": "https://localhost:8080/"
    },
    "executionInfo": {
     "elapsed": 2265,
     "status": "ok",
     "timestamp": 1681164961101,
     "user": {
      "displayName": "Alina Bogdanovskaya",
      "userId": "08472614992431204809"
     },
     "user_tz": -180
    },
    "id": "FKm0qyYnduZf",
    "outputId": "d6a82160-8833-448c-d1b8-a8677862d206"
   },
   "outputs": [
    {
     "name": "stdout",
     "output_type": "stream",
     "text": [
      "2607721\n"
     ]
    }
   ],
   "source": [
    "corpus = []\n",
    "for tweet in df.clean_text:\n",
    "  for word in tweet.split():\n",
    "    corpus.append(word)\n",
    "print(len(corpus))"
   ]
  },
  {
   "cell_type": "code",
   "execution_count": 8,
   "metadata": {
    "colab": {
     "base_uri": "https://localhost:8080/"
    },
    "executionInfo": {
     "elapsed": 3198,
     "status": "ok",
     "timestamp": 1681164964298,
     "user": {
      "displayName": "Alina Bogdanovskaya",
      "userId": "08472614992431204809"
     },
     "user_tz": -180
    },
    "id": "ZAS9_TRv6-Bq",
    "outputId": "5bd8bb70-fe67-41ee-9d65-a88967a704db"
   },
   "outputs": [
    {
     "data": {
      "text/plain": [
       "183463"
      ]
     },
     "execution_count": 8,
     "metadata": {},
     "output_type": "execute_result"
    }
   ],
   "source": [
    "freq_dict = Counter(corpus)\n",
    "freq_dict_sorted = sorted(freq_dict.items(), key=lambda x: -x[1])\n",
    "len(freq_dict_sorted)"
   ]
  },
  {
   "cell_type": "code",
   "execution_count": 12,
   "metadata": {
    "colab": {
     "base_uri": "https://localhost:8080/",
     "height": 430
    },
    "executionInfo": {
     "elapsed": 688,
     "status": "ok",
     "timestamp": 1681164964985,
     "user": {
      "displayName": "Alina Bogdanovskaya",
      "userId": "08472614992431204809"
     },
     "user_tz": -180
    },
    "id": "10Uqh5VG7alV",
    "outputId": "c33ecfa9-8a4e-48b5-fd0e-de117cd441ae"
   },
   "outputs": [
    {
     "data": {
      "image/png": "[encoded data removed]",
      "text/plain": [
       "<Figure size 432x288 with 1 Axes>"
      ]
     },
     "metadata": {
      "needs_background": "light"
     },
     "output_type": "display_data"
    }
   ],
   "source": [
    "first_200_freqs = [freq for word, freq in freq_dict_sorted[:200]]\n",
    "plt.plot(first_200_freqs)\n",
    "plt.show()"
   ]
  },
  {
   "cell_type": "code",
   "execution_count": 9,
   "metadata": {
    "colab": {
     "base_uri": "https://localhost:8080/"
    },
    "executionInfo": {
     "elapsed": 982,
     "status": "ok",
     "timestamp": 1681164965964,
     "user": {
      "displayName": "Alina Bogdanovskaya",
      "userId": "08472614992431204809"
     },
     "user_tz": -180
    },
    "id": "mA0zrXN87kot",
    "outputId": "86c452e7-c14c-4c82-c59a-b2b86bf3dd32"
   },
   "outputs": [
    {
     "data": {
      "text/plain": [
       "(2271, 15743, 165449)"
      ]
     },
     "execution_count": 9,
     "metadata": {},
     "output_type": "execute_result"
    }
   ],
   "source": [
    "high_freq_words = []\n",
    "mid_freq_words = []\n",
    "low_freq_words = []\n",
    "\n",
    "for word, freq in freq_dict_sorted:\n",
    "  if freq >= 100:\n",
    "    high_freq_words.append(word)\n",
    "  elif freq < 100 and freq >= 10:\n",
    "    mid_freq_words.append(word)\n",
    "  else: \n",
    "    low_freq_words.append(word)\n",
    "\n",
    "len(high_freq_words), len(mid_freq_words), len(low_freq_words)"
   ]
  },
  {
   "cell_type": "code",
   "execution_count": 10,
   "metadata": {
    "executionInfo": {
     "elapsed": 2,
     "status": "ok",
     "timestamp": 1681164965964,
     "user": {
      "displayName": "Alina Bogdanovskaya",
      "userId": "08472614992431204809"
     },
     "user_tz": -180
    },
    "id": "RKV9j-Re6k3e"
   },
   "outputs": [],
   "source": [
    "x_train, x_test, y_train, y_test = train_test_split(df.clean_text, df.class_label)"
   ]
  },
  {
   "cell_type": "code",
   "execution_count": 15,
   "metadata": {
    "colab": {
     "base_uri": "https://localhost:8080/"
    },
    "executionInfo": {
     "elapsed": 11899,
     "status": "ok",
     "timestamp": 1681164977862,
     "user": {
      "displayName": "Alina Bogdanovskaya",
      "userId": "08472614992431204809"
     },
     "user_tz": -180
    },
    "id": "9d0z0jQ08oBm",
    "outputId": "b702bc17-ff29-49be-d584-e54876e2ecea"
   },
   "outputs": [
    {
     "name": "stderr",
     "output_type": "stream",
     "text": [
      "C:\\Users\\Alina\\anaconda3\\lib\\site-packages\\sklearn\\linear_model\\_logistic.py:444: ConvergenceWarning: lbfgs failed to converge (status=1):\n",
      "STOP: TOTAL NO. of ITERATIONS REACHED LIMIT.\n",
      "\n",
      "Increase the number of iterations (max_iter) or scale the data as shown in:\n",
      "    https://scikit-learn.org/stable/modules/preprocessing.html\n",
      "Please also refer to the documentation for alternative solver options:\n",
      "    https://scikit-learn.org/stable/modules/linear_model.html#logistic-regression\n",
      "  n_iter_i = _check_optimize_result(\n"
     ]
    },
    {
     "name": "stdout",
     "output_type": "stream",
     "text": [
      "              precision    recall  f1-score   support\n",
      "\n",
      "           0       0.81      0.79      0.80     29518\n",
      "           1       0.78      0.80      0.79     27191\n",
      "\n",
      "    accuracy                           0.79     56709\n",
      "   macro avg       0.79      0.79      0.79     56709\n",
      "weighted avg       0.79      0.79      0.79     56709\n",
      "\n"
     ]
    }
   ],
   "source": [
    "cv = CountVectorizer(vocabulary=high_freq_words, lowercase=False, ngram_range=(1, 1))\n",
    "bow = cv.fit_transform(x_train)\n",
    "clf = LogisticRegression(random_state=42)\n",
    "clf.fit(bow, y_train)\n",
    "pred = clf.predict(cv.transform(x_test))\n",
    "print(classification_report(pred, y_test))"
   ]
  },
  {
   "cell_type": "code",
   "execution_count": 16,
   "metadata": {
    "colab": {
     "base_uri": "https://localhost:8080/"
    },
    "executionInfo": {
     "elapsed": 22614,
     "status": "ok",
     "timestamp": 1681165000465,
     "user": {
      "displayName": "Alina Bogdanovskaya",
      "userId": "08472614992431204809"
     },
     "user_tz": -180
    },
    "id": "AoRzJkPR9UrU",
    "outputId": "8b332cb1-131f-4a6b-eea2-41ffd9395ce3"
   },
   "outputs": [
    {
     "name": "stdout",
     "output_type": "stream",
     "text": [
      "              precision    recall  f1-score   support\n",
      "\n",
      "           0       0.55      0.67      0.60     23922\n",
      "           1       0.71      0.60      0.65     32787\n",
      "\n",
      "    accuracy                           0.63     56709\n",
      "   macro avg       0.63      0.64      0.63     56709\n",
      "weighted avg       0.64      0.63      0.63     56709\n",
      "\n"
     ]
    }
   ],
   "source": [
    "cv = CountVectorizer(vocabulary=mid_freq_words, lowercase=False, ngram_range=(1, 1))\n",
    "bow = cv.fit_transform(x_train)\n",
    "clf = LogisticRegression(random_state=42)\n",
    "clf.fit(bow, y_train)\n",
    "pred = clf.predict(cv.transform(x_test))\n",
    "print(classification_report(pred, y_test))"
   ]
  },
  {
   "cell_type": "code",
   "execution_count": 17,
   "metadata": {
    "colab": {
     "base_uri": "https://localhost:8080/"
    },
    "executionInfo": {
     "elapsed": 26705,
     "status": "ok",
     "timestamp": 1681165027160,
     "user": {
      "displayName": "Alina Bogdanovskaya",
      "userId": "08472614992431204809"
     },
     "user_tz": -180
    },
    "id": "nFX-mamj9YSS",
    "outputId": "446f7608-4d88-47e8-9d85-f6cbff8e1a8f"
   },
   "outputs": [
    {
     "name": "stdout",
     "output_type": "stream",
     "text": [
      "              precision    recall  f1-score   support\n",
      "\n",
      "           0       0.36      0.66      0.47     15973\n",
      "           1       0.80      0.55      0.65     40736\n",
      "\n",
      "    accuracy                           0.58     56709\n",
      "   macro avg       0.58      0.60      0.56     56709\n",
      "weighted avg       0.68      0.58      0.60     56709\n",
      "\n"
     ]
    }
   ],
   "source": [
    "cv = CountVectorizer(vocabulary=low_freq_words, lowercase=False, ngram_range=(1, 1))\n",
    "bow = cv.fit_transform(x_train)\n",
    "clf = LogisticRegression(random_state=42)\n",
    "clf.fit(bow, y_train)\n",
    "pred = clf.predict(cv.transform(x_test))\n",
    "print(classification_report(pred, y_test))"
   ]
  },
  {
   "cell_type": "markdown",
   "metadata": {
    "id": "3QBKZgOHDT2A"
   },
   "source": [
    "Судя по результатам работы классификаторов наиболее важны самые частые токены в преобработанном тексте. В необработанном тексте результаты сравнимо плохие. Качество работы классификатора с наиболее частотными токенами напрямую зависит от выбора границ частотности "
   ]
  },
  {
   "cell_type": "markdown",
   "metadata": {
    "id": "8k19dRqwEucc"
   },
   "source": [
    "## Задание 2.\n",
    "Найти фичи с наибольшей значимостью, и вывести их"
   ]
  },
  {
   "cell_type": "code",
   "execution_count": 18,
   "metadata": {
    "colab": {
     "base_uri": "https://localhost:8080/"
    },
    "executionInfo": {
     "elapsed": 21255,
     "status": "ok",
     "timestamp": 1681165048404,
     "user": {
      "displayName": "Alina Bogdanovskaya",
      "userId": "08472614992431204809"
     },
     "user_tz": -180
    },
    "id": "L-qK1z5XDTZw",
    "outputId": "e49d0d6d-eb7a-47d2-a601-6956b53e4f42"
   },
   "outputs": [
    {
     "name": "stderr",
     "output_type": "stream",
     "text": [
      "C:\\Users\\Alina\\anaconda3\\lib\\site-packages\\sklearn\\linear_model\\_logistic.py:444: ConvergenceWarning: lbfgs failed to converge (status=1):\n",
      "STOP: TOTAL NO. of ITERATIONS REACHED LIMIT.\n",
      "\n",
      "Increase the number of iterations (max_iter) or scale the data as shown in:\n",
      "    https://scikit-learn.org/stable/modules/preprocessing.html\n",
      "Please also refer to the documentation for alternative solver options:\n",
      "    https://scikit-learn.org/stable/modules/linear_model.html#logistic-regression\n",
      "  n_iter_i = _check_optimize_result(\n"
     ]
    },
    {
     "name": "stdout",
     "output_type": "stream",
     "text": [
      "              precision    recall  f1-score   support\n",
      "\n",
      "           0       0.82      0.83      0.82     28492\n",
      "           1       0.83      0.81      0.82     28217\n",
      "\n",
      "    accuracy                           0.82     56709\n",
      "   macro avg       0.82      0.82      0.82     56709\n",
      "weighted avg       0.82      0.82      0.82     56709\n",
      "\n"
     ]
    }
   ],
   "source": [
    "cv = CountVectorizer(lowercase=False, ngram_range=(1, 1))\n",
    "bow = cv.fit_transform(x_train)\n",
    "clf = LogisticRegression(random_state=42)\n",
    "clf.fit(bow, y_train)\n",
    "pred = clf.predict(cv.transform(x_test))\n",
    "print(classification_report(pred, y_test))"
   ]
  },
  {
   "cell_type": "code",
   "execution_count": 19,
   "metadata": {
    "colab": {
     "base_uri": "https://localhost:8080/"
    },
    "executionInfo": {
     "elapsed": 468,
     "status": "ok",
     "timestamp": 1681165048862,
     "user": {
      "displayName": "Alina Bogdanovskaya",
      "userId": "08472614992431204809"
     },
     "user_tz": -180
    },
    "id": "C0DviKsyEt7Z",
    "outputId": "83d88f64-4d74-4624-ddbe-a2ad6568977d"
   },
   "outputs": [
    {
     "name": "stdout",
     "output_type": "stream",
     "text": [
      "печаль: 9.195251251864088\n",
      "скептик: 5.969881550753077\n",
      "снаступающимтвиттерский: 3.9284480785078775\n",
      "плач: 3.10677805381259\n",
      "печально: 2.9699246581621135\n",
      "сожалению: 2.7659306219858175\n",
      "обидно: 2.6347645427528033\n",
      "скучать: 2.518542305759075\n",
      "грустный: 2.492956702733249\n",
      "заболела: 2.4737917155338276\n"
     ]
    }
   ],
   "source": [
    "# Сшиваем номер коэффициента и коэфццициент важности фичи в список туплов\n",
    "indexed_coefs = [(i,v) for i,v in enumerate(clf.coef_.flatten())]\n",
    "# Сортируем список по второму элементу тупла (важности)\n",
    "indexed_coefs.sort(key=lambda iv: -iv[1])\n",
    "\n",
    "# Берём из словаря, который составил себе CountVectorizer (слово -> индекс_фичи)\n",
    "# ключи и значения, и превращаем их в списки, чтобы по ним можно было индексироваться\n",
    "key_list = list(cv.vocabulary_.keys())\n",
    "val_list = list(cv.vocabulary_.values())\n",
    "\n",
    "# Берём первые N фичей из отсортированного по важности списка\n",
    "for i in range(0, 10):\n",
    "  # Достаём из списка пару (номер_фичи, важности_фичи)\n",
    "  iv = indexed_coefs[i]\n",
    "  # В списке индексов фичей из словаря CountVectorizer'а ищем индекс из пары\n",
    "  feat_idx = val_list.index(iv[0])\n",
    "  # Печатаем слово (имя фичи, полученное по её индексу) и его важность\n",
    "  print(f'{key_list[feat_idx]}: {iv[1]}')"
   ]
  },
  {
   "cell_type": "markdown",
   "metadata": {
    "id": "1Rtu5_2C7XaK"
   },
   "source": [
    "## Задание 3.\n",
    "1) сравнить count/tf-idf/hashing векторайзеры/полносвязанную сетку (построить classification_report)\n",
    "\n",
    "2) подобрать оптимальный размер для hashing векторайзера\n",
    "\n",
    "3) убедиться что для сетки нет переобучения"
   ]
  },
  {
   "cell_type": "code",
   "execution_count": 20,
   "metadata": {
    "colab": {
     "base_uri": "https://localhost:8080/"
    },
    "executionInfo": {
     "elapsed": 122095,
     "status": "ok",
     "timestamp": 1681165170956,
     "user": {
      "displayName": "Alina Bogdanovskaya",
      "userId": "08472614992431204809"
     },
     "user_tz": -180
    },
    "id": "piuBzrA989Q8",
    "outputId": "cf83beb2-10ad-494f-fb6d-9d934edb95a4"
   },
   "outputs": [
    {
     "name": "stderr",
     "output_type": "stream",
     "text": [
      "C:\\Users\\Alina\\anaconda3\\lib\\site-packages\\sklearn\\linear_model\\_logistic.py:444: ConvergenceWarning: lbfgs failed to converge (status=1):\n",
      "STOP: TOTAL NO. of ITERATIONS REACHED LIMIT.\n",
      "\n",
      "Increase the number of iterations (max_iter) or scale the data as shown in:\n",
      "    https://scikit-learn.org/stable/modules/preprocessing.html\n",
      "Please also refer to the documentation for alternative solver options:\n",
      "    https://scikit-learn.org/stable/modules/linear_model.html#logistic-regression\n",
      "  n_iter_i = _check_optimize_result(\n"
     ]
    },
    {
     "name": "stdout",
     "output_type": "stream",
     "text": [
      "              precision    recall  f1-score   support\n",
      "\n",
      "           0       0.83      0.84      0.84     28571\n",
      "           1       0.84      0.83      0.83     28138\n",
      "\n",
      "    accuracy                           0.84     56709\n",
      "   macro avg       0.84      0.84      0.84     56709\n",
      "weighted avg       0.84      0.84      0.84     56709\n",
      "\n"
     ]
    }
   ],
   "source": [
    "cv = CountVectorizer(ngram_range=(1, 3), lowercase=False)\n",
    "bow = cv.fit_transform(x_train)\n",
    "clf = LogisticRegression(random_state=42)\n",
    "clf.fit(bow, y_train)\n",
    "pred = clf.predict(cv.transform(x_test))\n",
    "print(classification_report(pred, y_test))"
   ]
  },
  {
   "cell_type": "code",
   "execution_count": 21,
   "metadata": {
    "colab": {
     "base_uri": "https://localhost:8080/"
    },
    "executionInfo": {
     "elapsed": 85277,
     "status": "ok",
     "timestamp": 1681165256231,
     "user": {
      "displayName": "Alina Bogdanovskaya",
      "userId": "08472614992431204809"
     },
     "user_tz": -180
    },
    "id": "WjFyTEe57HL4",
    "outputId": "821841da-dcb4-4c9c-930b-af2e682f1da1"
   },
   "outputs": [
    {
     "name": "stdout",
     "output_type": "stream",
     "text": [
      "              precision    recall  f1-score   support\n",
      "\n",
      "           0       0.80      0.84      0.82     27622\n",
      "           1       0.84      0.80      0.82     29087\n",
      "\n",
      "    accuracy                           0.82     56709\n",
      "   macro avg       0.82      0.82      0.82     56709\n",
      "weighted avg       0.82      0.82      0.82     56709\n",
      "\n"
     ]
    }
   ],
   "source": [
    "vec = TfidfVectorizer(ngram_range=(1, 3), lowercase=False)\n",
    "bow = vec.fit_transform(x_train)\n",
    "clf = LogisticRegression(random_state=42)\n",
    "clf.fit(bow, y_train)\n",
    "pred = clf.predict(vec.transform(x_test))\n",
    "print(classification_report(pred, y_test))"
   ]
  },
  {
   "cell_type": "code",
   "execution_count": 22,
   "metadata": {
    "colab": {
     "base_uri": "https://localhost:8080/"
    },
    "executionInfo": {
     "elapsed": 61258,
     "status": "ok",
     "timestamp": 1681165317488,
     "user": {
      "displayName": "Alina Bogdanovskaya",
      "userId": "08472614992431204809"
     },
     "user_tz": -180
    },
    "id": "lthaU9vg7flb",
    "outputId": "9eed62d1-ce3d-409f-e983-5a8a1c3501fe"
   },
   "outputs": [
    {
     "name": "stderr",
     "output_type": "stream",
     "text": [
      "C:\\Users\\Alina\\anaconda3\\lib\\site-packages\\sklearn\\linear_model\\_logistic.py:444: ConvergenceWarning: lbfgs failed to converge (status=1):\n",
      "STOP: TOTAL NO. of ITERATIONS REACHED LIMIT.\n",
      "\n",
      "Increase the number of iterations (max_iter) or scale the data as shown in:\n",
      "    https://scikit-learn.org/stable/modules/preprocessing.html\n",
      "Please also refer to the documentation for alternative solver options:\n",
      "    https://scikit-learn.org/stable/modules/linear_model.html#logistic-regression\n",
      "  n_iter_i = _check_optimize_result(\n"
     ]
    },
    {
     "name": "stdout",
     "output_type": "stream",
     "text": [
      "              precision    recall  f1-score   support\n",
      "\n",
      "           0       0.80      0.67      0.73     34455\n",
      "           1       0.59      0.74      0.66     22254\n",
      "\n",
      "    accuracy                           0.70     56709\n",
      "   macro avg       0.70      0.71      0.70     56709\n",
      "weighted avg       0.72      0.70      0.70     56709\n",
      "\n"
     ]
    }
   ],
   "source": [
    "hash_vec = HashingVectorizer(ngram_range=(2, 5), lowercase=False)\n",
    "bow = hash_vec.fit_transform(x_train)\n",
    "clf = LogisticRegression(random_state=42)\n",
    "clf.fit(bow, y_train)\n",
    "pred = clf.predict(hash_vec.transform(x_test))\n",
    "print(classification_report(pred, y_test))"
   ]
  },
  {
   "cell_type": "code",
   "execution_count": 23,
   "metadata": {
    "colab": {
     "base_uri": "https://localhost:8080/"
    },
    "executionInfo": {
     "elapsed": 50756,
     "status": "ok",
     "timestamp": 1681165368233,
     "user": {
      "displayName": "Alina Bogdanovskaya",
      "userId": "08472614992431204809"
     },
     "user_tz": -180
    },
    "id": "XqRIBHTf-XbA",
    "outputId": "9e0217f7-8a5c-4a35-dec2-1d1252a4efab"
   },
   "outputs": [
    {
     "name": "stderr",
     "output_type": "stream",
     "text": [
      "C:\\Users\\Alina\\anaconda3\\lib\\site-packages\\sklearn\\linear_model\\_logistic.py:444: ConvergenceWarning: lbfgs failed to converge (status=1):\n",
      "STOP: TOTAL NO. of ITERATIONS REACHED LIMIT.\n",
      "\n",
      "Increase the number of iterations (max_iter) or scale the data as shown in:\n",
      "    https://scikit-learn.org/stable/modules/preprocessing.html\n",
      "Please also refer to the documentation for alternative solver options:\n",
      "    https://scikit-learn.org/stable/modules/linear_model.html#logistic-regression\n",
      "  n_iter_i = _check_optimize_result(\n"
     ]
    },
    {
     "name": "stdout",
     "output_type": "stream",
     "text": [
      "              precision    recall  f1-score   support\n",
      "\n",
      "           0       0.83      0.82      0.83     29379\n",
      "           1       0.81      0.82      0.82     27330\n",
      "\n",
      "    accuracy                           0.82     56709\n",
      "   macro avg       0.82      0.82      0.82     56709\n",
      "weighted avg       0.82      0.82      0.82     56709\n",
      "\n"
     ]
    }
   ],
   "source": [
    "hash_vec = HashingVectorizer(ngram_range=(1, 2), lowercase=False)\n",
    "bow = hash_vec.fit_transform(x_train)\n",
    "clf = LogisticRegression(random_state=42)\n",
    "clf.fit(bow, y_train)\n",
    "pred = clf.predict(hash_vec.transform(x_test))\n",
    "print(classification_report(pred, y_test))"
   ]
  },
  {
   "cell_type": "code",
   "execution_count": 24,
   "metadata": {
    "colab": {
     "base_uri": "https://localhost:8080/"
    },
    "executionInfo": {
     "elapsed": 56780,
     "status": "ok",
     "timestamp": 1681165425003,
     "user": {
      "displayName": "Alina Bogdanovskaya",
      "userId": "08472614992431204809"
     },
     "user_tz": -180
    },
    "id": "9BoNhrzx-sJd",
    "outputId": "13e0447a-93b5-4196-e7b5-1ddfa37329c0"
   },
   "outputs": [
    {
     "name": "stdout",
     "output_type": "stream",
     "text": [
      "              precision    recall  f1-score   support\n",
      "\n",
      "           0       0.81      0.68      0.74     34381\n",
      "           1       0.60      0.75      0.67     22328\n",
      "\n",
      "    accuracy                           0.71     56709\n",
      "   macro avg       0.70      0.71      0.70     56709\n",
      "weighted avg       0.72      0.71      0.71     56709\n",
      "\n"
     ]
    }
   ],
   "source": [
    "hash_vec = HashingVectorizer(ngram_range=(2, 4), lowercase=False)\n",
    "bow = hash_vec.fit_transform(x_train)\n",
    "clf = LogisticRegression(random_state=42)\n",
    "clf.fit(bow, y_train)\n",
    "pred = clf.predict(hash_vec.transform(x_test))\n",
    "print(classification_report(pred, y_test))"
   ]
  },
  {
   "cell_type": "code",
   "execution_count": 25,
   "metadata": {
    "colab": {
     "base_uri": "https://localhost:8080/"
    },
    "executionInfo": {
     "elapsed": 54642,
     "status": "ok",
     "timestamp": 1681165479635,
     "user": {
      "displayName": "Alina Bogdanovskaya",
      "userId": "08472614992431204809"
     },
     "user_tz": -180
    },
    "id": "YGCge_uyBHbD",
    "outputId": "68ca74c0-4af9-4837-c6f0-ee0559102462"
   },
   "outputs": [
    {
     "name": "stderr",
     "output_type": "stream",
     "text": [
      "C:\\Users\\Alina\\anaconda3\\lib\\site-packages\\sklearn\\linear_model\\_logistic.py:444: ConvergenceWarning: lbfgs failed to converge (status=1):\n",
      "STOP: TOTAL NO. of ITERATIONS REACHED LIMIT.\n",
      "\n",
      "Increase the number of iterations (max_iter) or scale the data as shown in:\n",
      "    https://scikit-learn.org/stable/modules/preprocessing.html\n",
      "Please also refer to the documentation for alternative solver options:\n",
      "    https://scikit-learn.org/stable/modules/linear_model.html#logistic-regression\n",
      "  n_iter_i = _check_optimize_result(\n"
     ]
    },
    {
     "name": "stdout",
     "output_type": "stream",
     "text": [
      "              precision    recall  f1-score   support\n",
      "\n",
      "           0       0.83      0.82      0.83     29419\n",
      "           1       0.81      0.82      0.82     27290\n",
      "\n",
      "    accuracy                           0.82     56709\n",
      "   macro avg       0.82      0.82      0.82     56709\n",
      "weighted avg       0.82      0.82      0.82     56709\n",
      "\n"
     ]
    }
   ],
   "source": [
    "hash_vec = HashingVectorizer(ngram_range=(1, 3), lowercase=False)\n",
    "bow = hash_vec.fit_transform(x_train)\n",
    "clf = LogisticRegression(random_state=42)\n",
    "clf.fit(bow, y_train)\n",
    "pred = clf.predict(hash_vec.transform(x_test))\n",
    "print(classification_report(pred, y_test))"
   ]
  },
  {
   "cell_type": "code",
   "execution_count": 11,
   "metadata": {
    "executionInfo": {
     "elapsed": 4167,
     "status": "ok",
     "timestamp": 1681165483791,
     "user": {
      "displayName": "Alina Bogdanovskaya",
      "userId": "08472614992431204809"
     },
     "user_tz": -180
    },
    "id": "iGUYwVU2ES9f"
   },
   "outputs": [],
   "source": [
    "import tensorflow as tf\n",
    "\n",
    "from keras import Sequential\n",
    "from keras.layers import Dense, Embedding, GlobalAveragePooling1D, Conv1D, GRU, LSTM, Dropout, TextVectorization\n"
   ]
  },
  {
   "cell_type": "code",
   "execution_count": 12,
   "metadata": {
    "executionInfo": {
     "elapsed": 10,
     "status": "ok",
     "timestamp": 1681165483792,
     "user": {
      "displayName": "Alina Bogdanovskaya",
      "userId": "08472614992431204809"
     },
     "user_tz": -180
    },
    "id": "trTjqfvIEasg"
   },
   "outputs": [],
   "source": [
    "train_data = tf.data.Dataset.from_tensor_slices((x_train, y_train))\n",
    "valid_data = tf.data.Dataset.from_tensor_slices((x_test, y_test))\n",
    "\n",
    "train_data = train_data.batch(32)\n",
    "valid_data = valid_data.batch(64)"
   ]
  },
  {
   "cell_type": "code",
   "execution_count": 13,
   "metadata": {
    "executionInfo": {
     "elapsed": 82735,
     "status": "ok",
     "timestamp": 1681165566517,
     "user": {
      "displayName": "Alina Bogdanovskaya",
      "userId": "08472614992431204809"
     },
     "user_tz": -180
    },
    "id": "Vw45N337HcVg"
   },
   "outputs": [],
   "source": [
    "vocab = list(set(high_freq_words + mid_freq_words))\n",
    "vocab_size = len(vocab)\n",
    "seq_len = 20\n",
    "\n",
    "vectorize_layer = TextVectorization(\n",
    "    standardize=None,\n",
    "    max_tokens=vocab_size+1,\n",
    "    output_mode='binary',\n",
    "    #output_sequence_length=seq_len,\n",
    "    ngrams=(1, 3),\n",
    "    vocabulary=vocab)\n",
    "\n",
    "# Make a text-only dataset (no labels) and call adapt to build the vocabulary.\n",
    "text_data = train_data.map(lambda x, y: x)\n",
    "# vectorize_layer.adapt(text_data)\n",
    "vectorize_layer.build(input_shape=(1,))"
   ]
  },
  {
   "cell_type": "code",
   "execution_count": 31,
   "metadata": {
    "executionInfo": {
     "elapsed": 3562,
     "status": "ok",
     "timestamp": 1681165570069,
     "user": {
      "displayName": "Alina Bogdanovskaya",
      "userId": "08472614992431204809"
     },
     "user_tz": -180
    },
    "id": "am5t9czUF0X3"
   },
   "outputs": [],
   "source": [
    "embedding_dim=64\n",
    "\n",
    "model = tf.keras.Sequential([\n",
    "    tf.keras.Input(shape=(1,), dtype=tf.string),\n",
    "    vectorize_layer,\n",
    "    tf.keras.layers.Embedding(vocab_size+1, embedding_dim, input_length=seq_len),\n",
    "    tf.keras.layers.Bidirectional(tf.keras.layers.LSTM(64, return_sequences=True)),\n",
    "    tf.keras.layers.Bidirectional(tf.keras.layers.LSTM(32)),\n",
    "    tf.keras.layers.Dense(32, activation='relu'),\n",
    "    tf.keras.layers.Dropout(0.2),\n",
    "    tf.keras.layers.Dense(1, activation='sigmoid')\n",
    "])"
   ]
  },
  {
   "cell_type": "code",
   "execution_count": 22,
   "metadata": {},
   "outputs": [],
   "source": [
    "model = tf.keras.Sequential([\n",
    "    tf.keras.Input(shape=(1,), dtype=tf.string),\n",
    "    vectorize_layer,\n",
    "    tf.keras.layers.Dense(8, activation='relu'),\n",
    "    tf.keras.layers.Dropout(0.2),\n",
    "    tf.keras.layers.Dense(1, activation='sigmoid')\n",
    "])"
   ]
  },
  {
   "cell_type": "code",
   "execution_count": 23,
   "metadata": {
    "executionInfo": {
     "elapsed": 10,
     "status": "ok",
     "timestamp": 1681165570072,
     "user": {
      "displayName": "Alina Bogdanovskaya",
      "userId": "08472614992431204809"
     },
     "user_tz": -180
    },
    "id": "PrZXnkvqHvEn"
   },
   "outputs": [
    {
     "name": "stdout",
     "output_type": "stream",
     "text": [
      "Epoch 1/5\n",
      "5317/5317 [==============================] - 166s 31ms/step - loss: 0.5564 - accuracy: 0.7445 - val_loss: 0.4501 - val_accuracy: 0.8035\n",
      "Epoch 2/5\n",
      "5317/5317 [==============================] - 166s 31ms/step - loss: 0.4241 - accuracy: 0.7978 - val_loss: 0.3944 - val_accuracy: 0.8141\n",
      "Epoch 3/5\n",
      "5317/5317 [==============================] - 166s 31ms/step - loss: 0.3846 - accuracy: 0.8176 - val_loss: 0.3768 - val_accuracy: 0.8189\n",
      "Epoch 4/5\n",
      "5317/5317 [==============================] - 166s 31ms/step - loss: 0.3639 - accuracy: 0.8302 - val_loss: 0.3690 - val_accuracy: 0.8210\n",
      "Epoch 5/5\n",
      "5317/5317 [==============================] - 165s 31ms/step - loss: 0.3506 - accuracy: 0.8391 - val_loss: 0.3654 - val_accuracy: 0.8205\n"
     ]
    }
   ],
   "source": [
    "opt = tf.keras.optimizers.Adam(learning_rate=0.0001)\n",
    "\n",
    "model.compile(loss='binary_crossentropy', optimizer=opt, metrics=['accuracy'])\n",
    "\n",
    "hh = model.fit(train_data, \n",
    "               epochs=5, \n",
    "               validation_data=valid_data)"
   ]
  },
  {
   "cell_type": "code",
   "execution_count": 24,
   "metadata": {},
   "outputs": [
    {
     "data": {
      "text/plain": [
       "[<matplotlib.lines.Line2D at 0x1d29a108f10>]"
      ]
     },
     "execution_count": 24,
     "metadata": {},
     "output_type": "execute_result"
    },
    {
     "data": {
      "image/png": "[encoded data removed]",
      "text/plain": [
       "<Figure size 432x288 with 1 Axes>"
      ]
     },
     "metadata": {
      "needs_background": "light"
     },
     "output_type": "display_data"
    }
   ],
   "source": [
    "plt.plot(hh.history['val_loss'])\n",
    "plt.plot(hh.history['val_accuracy'])"
   ]
  },
  {
   "cell_type": "code",
   "execution_count": null,
   "metadata": {},
   "outputs": [],
   "source": []
  }
 ],
 "metadata": {
  "colab": {
   "authorship_tag": "ABX9TyMqqnTuO1yOGi+oai3lip9/",
   "gpuType": "T4",
   "mount_file_id": "1kEIBtJ8X5-QGMQZhSADgQ66nBGhmCBjZ",
   "provenance": []
  },
  "gpuClass": "standard",
  "kernelspec": {
   "display_name": "Python 3",
   "language": "python",
   "name": "python3"
  },
  "language_info": {
   "codemirror_mode": {
    "name": "ipython",
    "version": 3
   },
   "file_extension": ".py",
   "mimetype": "text/x-python",
   "name": "python",
   "nbconvert_exporter": "python",
   "pygments_lexer": "ipython3",
   "version": "3.8.8"
  }
 },
 "nbformat": 4,
 "nbformat_minor": 1
}
